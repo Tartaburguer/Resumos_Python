{
 "cells": [
  {
   "attachments": {},
   "cell_type": "markdown",
   "id": "07e2ed3d",
   "metadata": {},
   "source": [
    "# Apresentação Python\n",
    "\n",
    "## Indice\n",
    "\n",
    "- Python?\n",
    "- Variaveis\n",
    "- Comandos de Impressão\n",
    "- Conceitos básicos\n",
    "- Estruturas condicionais\n",
    "- Strings\n",
    "- Listas,Matrizes,Tuplas,Dicionarios e Sets\n",
    "- Estruturas de Repetição\n",
    "- [Modulos e Arquivos](#modulos)\n",
    "- [Virtual enviroments](#venv)\n",
    "___\n",
    "\n",
    "\n",
    "\n"
   ]
  },
  {
   "attachments": {},
   "cell_type": "markdown",
   "id": "e6adfe6e",
   "metadata": {},
   "source": [
    "# Python? \n",
    "\n",
    "\n",
    "<div>\n",
    "<img src=\"images\\Python.png\" width=\"300\"/>\n",
    "</div>\n",
    "\n",
    "\n",
    "_Monty Python_\n",
    "\n",
    "> _Pyhton é uma linguagem de script fácil de usar, ao mesmo tempo que rápida e poderosa_\n",
    "\n",
    "\n",
    "\n"
   ]
  },
  {
   "attachments": {},
   "cell_type": "markdown",
   "id": "42d1c468",
   "metadata": {},
   "source": [
    "### Caracteristicas da Linguagem\n",
    "- Uma das linguagens de programação mais populares;\n",
    "- Fácil de aprender;\n",
    "- Comunidade ativa;\n",
    "- Milhares de bibliotecas;\n",
    "- Usada para desenvolvimento web, mobile, jogos, computação científica, robótica, IA, ML...\n",
    "- Fácil de integrar;\n",
    "- Pode ser usada em qualquer sistema operacional (incluíndo muitos embarcados);\n",
    "- Multiparadigma (Estruturado ou Orientado a Objetos);\n",
    "- Linguagem interpretada (Em uma linguagem interpretada, o tradutor traduz o código fonte para o\n",
    "código de máquina em tempo real, na hora da execução, o que pode\n",
    "tornar o tempo de execução mais ágil porém os erros só serão\n",
    "identificados na hora da execução.)\n",
    "\n",
    "\n",
    "### The Zen of Python, by Tim Peters\n",
    "\n",
    "* Beautiful is better than ugly.\n",
    "* Explicit is better than implicit.\n",
    "* Simple is better than complex.\n",
    "* Complex is better than complicated.\n",
    "* Flat is better than nested.\n",
    "* Sparse is better than dense.\n",
    "* Readability counts.\n",
    "* Special cases aren't special enough to break the rules.\n",
    "* Although practicality beats purity.\n",
    "* Errors should never pass silently.\n",
    "* Unless explicitly silenced.\n",
    "* In the face of ambiguity, refuse the temptation to guess.\n",
    "* There should be one-- and preferably only one --obvious way to do it.\n",
    "* Although that way may not be obvious at first unless you're Dutch.\n",
    "* Now is better than never.\n",
    "* Although never is often better than *right* now.\n",
    "* If the implementation is hard to explain, it's a bad idea.\n",
    "* If the implementation is easy to explain, it may be a good idea.\n",
    "* Namespaces are one honking great idea -- let's do more of those!"
   ]
  },
  {
   "attachments": {},
   "cell_type": "markdown",
   "id": "703a6eb9",
   "metadata": {},
   "source": [
    "\n",
    "## Google Colaboratory\n",
    "\n",
    "O Colaboratory ou \"Colab\" permite escrever código Python no seu navegador, com: \n",
    "- Nenhuma configuração necessária\n",
    "- Acesso gratuito a GPUs\n",
    "- Compartilhamento fácil\n",
    "\n",
    "Você pode ser um <strong>estudante</strong>, um <strong>cientista de dados</strong> ou um <strong>pesquisador de IA</strong>, o Colab pode facilitar seu trabalho.\n",
    "\n",
    "## 📃 Notebook\n",
    "\n",
    "Notebooks são arquivos como esse onde você pode criar células de texto ou código e manipulá-los de forma interativa.\n",
    "- Células de texto podem ser formatados usando [Markdown](https://daringfireball.net/projects/markdown/);\n",
    "- Células de código podem ser executadas clicando no botão play ou usando o atalho `Ctrl + Entrer`. Todas as células de um notebook compõe o mesmo escopo.\n",
    "\n",
    "Mais referências markdows: (https://help.start.gg/en/articles/1987102-customizing-text-with-markdown)\n",
    "\n",
    "## Anaconda & VS Code\n",
    "\n",
    "Para trabalhar com os codigos em Python, alem de trabalhar no colab , é possivel utilizar softwares como o Anaconda e VS Code\n",
    "\n",
    "______________"
   ]
  },
  {
   "attachments": {},
   "cell_type": "markdown",
   "id": "33cbba01",
   "metadata": {},
   "source": [
    "# Variáveis\n",
    "\n",
    "\n"
   ]
  },
  {
   "attachments": {},
   "cell_type": "markdown",
   "id": "cbdfee26",
   "metadata": {},
   "source": [
    "<a id='Variaveis'></a>"
   ]
  },
  {
   "attachments": {},
   "cell_type": "markdown",
   "id": "815efec0",
   "metadata": {},
   "source": [
    "\n",
    "### Declarando variaveis\n",
    "\n",
    "\n",
    "``` python\n",
    "# Variáveis em Python são decalrados assim:\n",
    "# <nome> = <valor>\n",
    "\n",
    "nome='Renato'\n",
    "num1 = 5\n",
    "num2 = 10\n",
    "num3 = num1 + num2\n",
    "```\n",
    "\n",
    "- Não existe em Python um comando específico para declarar variáveis;\n",
    "- Dispensa a declaração do tipo;\n",
    "- Tipagem dinâmica;\n",
    "- Atribuição múltipla é permitido 👍\n",
    "- Atribuição em cascata também ✌\n",
    "\n",
    "```python\n",
    "num1 = 5\n",
    "num2 = 10\n",
    "num1, num2 = num2, num1  # atribuição múltipla\n",
    "val1 = val2 = val3 = 100 # atribuição em cascata\n",
    "i+=1 #soma incremental i=i+1\n",
    "j-=1 #Subtração decremental i=i-1\n",
    "```\n",
    "\n"
   ]
  },
  {
   "attachments": {},
   "cell_type": "markdown",
   "id": "5016a9cb",
   "metadata": {},
   "source": [
    "\n",
    "### Regras para criação de nomes de variáveis:\n",
    "\n",
    "- É case-sensitive;\n",
    "- Não pode começar com um número;\n",
    "- Não pode haver espaço (use `_`);\n",
    "- Não pode haver caracteres especiais: `\" ' , < > | / \\ ( ) @ ! # $ % ^ & * ~ - +`"
   ]
  },
  {
   "attachments": {},
   "cell_type": "markdown",
   "id": "06bd8919",
   "metadata": {
    "slideshow": {
     "slide_type": "-"
    }
   },
   "source": [
    "______________________\n",
    "\n",
    "# Comandos de Impressão\n"
   ]
  },
  {
   "attachments": {},
   "cell_type": "markdown",
   "id": "f22707d6",
   "metadata": {},
   "source": [
    "## Hello World"
   ]
  },
  {
   "cell_type": "code",
   "execution_count": 1,
   "id": "aea71200",
   "metadata": {},
   "outputs": [
    {
     "name": "stdout",
     "output_type": "stream",
     "text": [
      "Hello World\n"
     ]
    }
   ],
   "source": [
    "print('Hello World')"
   ]
  },
  {
   "cell_type": "code",
   "execution_count": 2,
   "id": "f04341ad",
   "metadata": {
    "scrolled": true
   },
   "outputs": [
    {
     "name": "stdout",
     "output_type": "stream",
     "text": [
      "Helo \n",
      "World\n"
     ]
    }
   ],
   "source": [
    "#quebrando a linha \\n\n",
    "print(\"Helo \\nWorld\")"
   ]
  },
  {
   "cell_type": "code",
   "execution_count": 3,
   "id": "e95b0684",
   "metadata": {},
   "outputs": [
    {
     "name": "stdout",
     "output_type": "stream",
     "text": [
      "Helo\tWorld\n"
     ]
    }
   ],
   "source": [
    "#Espaçamento (tab) \\t\n",
    "print(\"Helo\\tWorld\")"
   ]
  },
  {
   "cell_type": "code",
   "execution_count": 4,
   "id": "09668046",
   "metadata": {},
   "outputs": [
    {
     "name": "stdout",
     "output_type": "stream",
     "text": [
      "1\n",
      "2\n",
      "3\n"
     ]
    }
   ],
   "source": [
    "#Cada novo print desce uma linha\n",
    "print(1)\n",
    "print(2)\n",
    "print(3)"
   ]
  },
  {
   "cell_type": "code",
   "execution_count": 5,
   "id": "532c4787",
   "metadata": {},
   "outputs": [
    {
     "name": "stdout",
     "output_type": "stream",
     "text": [
      "1 2 3 "
     ]
    }
   ],
   "source": [
    "#Cada novo print continua na mesma linha, mas tem um espaço\n",
    "print(1,end=\" \")\n",
    "print(2,end=\" \")\n",
    "print(3,end=\" \")"
   ]
  },
  {
   "cell_type": "code",
   "execution_count": 6,
   "id": "070b99c2",
   "metadata": {},
   "outputs": [
    {
     "name": "stdout",
     "output_type": "stream",
     "text": [
      "123"
     ]
    }
   ],
   "source": [
    "#Cada novo print continua na mesma linha sem espaço\n",
    "print(1,end=\"\")\n",
    "print(2,end=\"\")\n",
    "print(3,end=\"\")"
   ]
  },
  {
   "cell_type": "code",
   "execution_count": 7,
   "id": "35a00ab0",
   "metadata": {},
   "outputs": [
    {
     "name": "stdout",
     "output_type": "stream",
     "text": [
      "Meu nome é  Erick\n"
     ]
    }
   ],
   "source": [
    "#Imprimir uma variavel no meio de um texto\n",
    "name='Erick'\n",
    "print(\"Meu nome é \", name)"
   ]
  },
  {
   "attachments": {},
   "cell_type": "markdown",
   "id": "41b66888",
   "metadata": {},
   "source": [
    "## f-Strings\n",
    "\n",
    "> formatted string literals\n",
    "\n",
    "```python\n",
    "name = 'Erick'\n",
    "print(f'Meu nome é {name}')\n",
    "```\n",
    "\n",
    "\n",
    "https://realpython.com/python-f-strings/ <br/>\n",
    "https://docs.python.org/3/reference/lexical_analysis.html#f-strings\n"
   ]
  },
  {
   "cell_type": "code",
   "execution_count": 8,
   "id": "345bb917",
   "metadata": {},
   "outputs": [
    {
     "name": "stdout",
     "output_type": "stream",
     "text": [
      "Meu nome é Erik\n"
     ]
    }
   ],
   "source": [
    "name='Erik'\n",
    "print(f\"Meu nome é {name}\")"
   ]
  },
  {
   "cell_type": "code",
   "execution_count": 9,
   "id": "f8a4b3fe",
   "metadata": {},
   "outputs": [
    {
     "name": "stdout",
     "output_type": "stream",
     "text": [
      "5.42\n"
     ]
    }
   ],
   "source": [
    "#Imprimir um float com menos digitos decimais\n",
    "n=5.423\n",
    "\n",
    "print(f\"{n:.2f}\")"
   ]
  },
  {
   "cell_type": "code",
   "execution_count": 10,
   "id": "702a9de6",
   "metadata": {},
   "outputs": [
    {
     "name": "stdout",
     "output_type": "stream",
     "text": [
      "Rei     -----  123456\n",
      "Bela    -----   5325573\n"
     ]
    }
   ],
   "source": [
    "#Imprimir valores com um espaçamento especifico\n",
    "n1='Rei'\n",
    "n2='Bela'\n",
    "x1=123456\n",
    "x2=5325573\n",
    "print(f\"{n1:<8}-----{x1:>8}\")\n",
    "print(f\"{n2:<8}-----{x2:>10}\")"
   ]
  },
  {
   "attachments": {},
   "cell_type": "markdown",
   "id": "41e730ca",
   "metadata": {},
   "source": [
    "_____________\n",
    "\n",
    "# Entrada de Dados\n",
    "\n",
    "`input()`"
   ]
  },
  {
   "cell_type": "code",
   "execution_count": 11,
   "id": "012b587f",
   "metadata": {},
   "outputs": [
    {
     "data": {
      "text/plain": [
       "'teste'"
      ]
     },
     "execution_count": 11,
     "metadata": {},
     "output_type": "execute_result"
    }
   ],
   "source": [
    "input()"
   ]
  },
  {
   "cell_type": "code",
   "execution_count": 12,
   "id": "a0b80943",
   "metadata": {},
   "outputs": [
    {
     "data": {
      "text/plain": [
       "'Renato'"
      ]
     },
     "execution_count": 12,
     "metadata": {},
     "output_type": "execute_result"
    }
   ],
   "source": [
    "input(\"Digite seu Nome :\")"
   ]
  },
  {
   "attachments": {},
   "cell_type": "markdown",
   "id": "35bff9fe",
   "metadata": {},
   "source": [
    "__________________\n",
    "\n",
    "# Tipos de Dados Básicos\n"
   ]
  },
  {
   "attachments": {},
   "cell_type": "markdown",
   "id": "232e053d",
   "metadata": {},
   "source": [
    "### Tipos numéricos\n",
    "- Inteiros - `int`\n",
    "- Pontos Flutuantes - `float`\n",
    "\n",
    "### Texto\n",
    "- String - `str`\n",
    "\n",
    "### Booleano\n",
    "- `bool` - `True` `False`\n",
    "\n",
    "\n",
    "\n",
    "### Duck Type\n",
    "\n",
    "> \"Se anda como pato, nada como um pato e faz quack como um pato, então deve ser é um pato\"\n",
    "\n",
    "https://www.devmedia.com.br/duck-typing-com-python/40223\n",
    "\n",
    "### Função type()\n",
    "\n",
    "Retorna o tipo da variavel\n",
    "\n",
    "```python\n",
    "type(10)\n",
    "```\n",
    "\n",
    "### Cast\n",
    "\n",
    "Os principais tipos de dados em Python possuem contrutores que podem ser usados para converter diferentes tipos.\n",
    "\n",
    "- `int()`\n",
    "- `float()`\n",
    "- `str()`\n",
    "- `bool()`\n"
   ]
  },
  {
   "attachments": {},
   "cell_type": "markdown",
   "id": "60caf914",
   "metadata": {},
   "source": [
    "___\n",
    "\n",
    "# Operações Aritméticas\n",
    "\n",
    "\n",
    "\n",
    "- `+` *Soma**\n",
    "- `-` Subtração\n",
    "- `*` *Multiplicação**\n",
    "- `/` Divisão\n",
    "- `//` Divisão inteira\n",
    "- `%` Resto da divisão\n",
    "- `**` Exponenciação\n",
    "\n",
    "*P.S.: Quando necessário, usamod `()` para definir a ordem de determinada operação*"
   ]
  },
  {
   "attachments": {},
   "cell_type": "markdown",
   "id": "fffa8cd6",
   "metadata": {},
   "source": [
    "___\n",
    "\n",
    "\n",
    "# Estruturas Condicionais\n"
   ]
  },
  {
   "attachments": {},
   "cell_type": "markdown",
   "id": "806831bd",
   "metadata": {},
   "source": [
    "### Operadores de Comparação\n",
    "\n",
    "- `==` *igual =* \n",
    "- `!=` *Diferente ≠*\n",
    "- `>`  *Maior que*\n",
    "- `<`  *Menor que*\n",
    "- `>=` *maior ou igual ≥* \n",
    "- `<=`  *menor ou igual ≤*\n",
    "\n",
    "### Operadores de Comparação Lógicos\n",
    "\n",
    "- `and` *operação ∧*\n",
    "- `or` *operação ∨*\n",
    "- `not` *operação  ┐*`\n",
    "\n",
    "> Obs.: tambem é possivel utilizar & (operação and) , | (operação or) e ~ (operação not) e algumas bibliotecas de python como o pandas só irão aceitar essa versão alternativa de operadores logicos"
   ]
  },
  {
   "attachments": {},
   "cell_type": "markdown",
   "id": "7677c335",
   "metadata": {},
   "source": [
    "### `if`, `elif`, `else`\n",
    "\n",
    "\n",
    "```python\n",
    "if condição:\n",
    "  # se for True\n",
    "```\n",
    "\n",
    "```python\n",
    "if condição:\n",
    "  # se for True\n",
    "else:\n",
    "  # se for False\n",
    "```\n",
    "\n",
    "```python\n",
    "if condição:\n",
    "  # se for True\n",
    "elif outra_condicao:\n",
    "  # se a outra_condicao for True\n",
    "else:\n",
    "  # se for False\n",
    "```\n",
    "\n",
    "> Obs.: \n",
    "- O escopo das estruturas condicionais é definido pela **identação**\n",
    "- Em Python não há `switch case`\n",
    "- Pode-se construir uma estrutura com if, varios elif e sem else no final"
   ]
  },
  {
   "cell_type": "code",
   "execution_count": 13,
   "id": "2e0f1863",
   "metadata": {},
   "outputs": [
    {
     "name": "stdout",
     "output_type": "stream",
     "text": [
      "Jogador 4 Venceu com  5  Pontos!\n"
     ]
    }
   ],
   "source": [
    "#Exemplo de estrutura  condicional com if , elif e sem else no final\n",
    "J1=int(input(\"Digite a pontuação do Jogador 1: \\n\")) #o comando cast int() faz com que só seja aceito valores inteiros\n",
    "\n",
    "# se nao definir o tipo de variavel, vai puxar o valor digitado, considerando como string, pois o mais provavel é o usuario\n",
    "#digitar uma string\n",
    "\n",
    "J2=int(input(\"Digite a pontuação do Jogador 2: \\n\")) \n",
    "J3=int(input(\"Digite a pontuação do Jogador 3: \\n\")) \n",
    "J4=int(input(\"Digite a pontuação do Jogador 4: \\n\"))\n",
    "\n",
    "if (J1<J2) & (J1<J3) & (J1<J4): #utilizando o operador logico & ao inves de and\n",
    "    print (\"Jogador 1 Venceu com \" , J1 , \" Pontos!\")\n",
    "elif J2<J1 and J2<J3 and J2<J4:\n",
    "    print (\"Jogador 2 Venceu com \" , J2 , \" Pontos!\")\n",
    "elif J3<J1 and J3<J2 and J3<J4:\n",
    "    print (\"Jogador 3 Venceu com \" , J3 , \" Pontos!\")\n",
    "elif J4<J1 and J4<J2 and J4<J3:\n",
    "    print (\"Jogador 4 Venceu com \" , J3 , \" Pontos!\")"
   ]
  },
  {
   "attachments": {},
   "cell_type": "markdown",
   "id": "132601cb",
   "metadata": {},
   "source": [
    "\n",
    "___\n",
    "\n",
    "\n",
    "# Caracteres de escape\n",
    "\n",
    "Em Python podemos usar alguns caracteres de escape para definir de forma fácil quebras de linha e tabulações usando:\n",
    "- `\\n` Quebra de linha\n",
    "- `\\t` Espaçamento (tab)\n",
    "\n",
    "https://docs.python.org/3/reference/lexical_analysis.html#string-and-bytes-literals"
   ]
  },
  {
   "attachments": {},
   "cell_type": "markdown",
   "id": "6734161e",
   "metadata": {},
   "source": [
    "___\n",
    "\n",
    "\n",
    "# Sobre strings\n",
    "\n",
    "Em Python, textos são armazenados como uma **sequencia de caracteres** Unicode. Essa sequência é conhecida popularmente como **String**. Ex.: `\"CESAR School\"`\n",
    "\n",
    "Sendo uma sequência, é possivel acessar cada caracter através de um indice.\n",
    "\n",
    "\n"
   ]
  },
  {
   "attachments": {},
   "cell_type": "markdown",
   "id": "b8aa2654",
   "metadata": {},
   "source": [
    "### Criando uma String\n",
    "\n",
    "Existem 3 formas de criar uma **String literal**:\n"
   ]
  },
  {
   "cell_type": "code",
   "execution_count": 14,
   "id": "b21d4448",
   "metadata": {},
   "outputs": [
    {
     "name": "stdout",
     "output_type": "stream",
     "text": [
      "Cesar Cesar Cesar "
     ]
    }
   ],
   "source": [
    "# Aspas simples\n",
    "x='Cesar'\n",
    "\n",
    "# Aspas duplas\n",
    "y=\"Cesar\"\n",
    "\n",
    "# Aspas triplas*\n",
    "z='''Cesar'''\n",
    "\n",
    "print(x,end=' ')\n",
    "print(y,end=' ')\n",
    "print(z,end=' ')"
   ]
  },
  {
   "attachments": {},
   "cell_type": "markdown",
   "id": "957440f0",
   "metadata": {},
   "source": [
    "### Indexação em Strings\n",
    "\n",
    "\n",
    "\n",
    "<div>\n",
    "<img src=\"images\\hello.png\" width=\"200\"/>\n",
    "</div>"
   ]
  },
  {
   "cell_type": "code",
   "execution_count": 15,
   "id": "939336dd",
   "metadata": {},
   "outputs": [
    {
     "data": {
      "text/plain": [
       "'Hlo'"
      ]
     },
     "execution_count": 15,
     "metadata": {},
     "output_type": "execute_result"
    }
   ],
   "source": [
    "# Seleção de caractere\n",
    "# [posição]\n",
    "\n",
    "# Seleção de seção\n",
    "# [inicio : limite : passo]\n",
    "\n",
    "texto='Hello'\n",
    "texto[0:5:2]"
   ]
  },
  {
   "attachments": {},
   "cell_type": "markdown",
   "id": "f103bddd",
   "metadata": {},
   "source": [
    "### len()  \n",
    "\n",
    "Retorna a quantidade de elementos contidos no parâmetro. No caso de uma string, deve retornar a quantidade de caracteres.\n",
    "Tambem pode ser utilizado o comando len() para outras estruturas de dados"
   ]
  },
  {
   "cell_type": "code",
   "execution_count": 16,
   "id": "cf5c740a",
   "metadata": {},
   "outputs": [
    {
     "data": {
      "text/plain": [
       "2"
      ]
     },
     "execution_count": 16,
     "metadata": {},
     "output_type": "execute_result"
    }
   ],
   "source": [
    "len('10')"
   ]
  },
  {
   "attachments": {},
   "cell_type": "markdown",
   "id": "67247538",
   "metadata": {},
   "source": [
    "### str.find()\n",
    "\n",
    "Se o valor retornado for:\n",
    "- `>= 0` : Caractere ou substring encontrado numa posição específica\n",
    "- `< 0` : Caractere ou substring não encontrado"
   ]
  },
  {
   "cell_type": "code",
   "execution_count": 17,
   "id": "da14fa99",
   "metadata": {},
   "outputs": [
    {
     "data": {
      "text/plain": [
       "4"
      ]
     },
     "execution_count": 17,
     "metadata": {},
     "output_type": "execute_result"
    }
   ],
   "source": [
    "texto=\"Hello\"\n",
    "texto.find('o')"
   ]
  },
  {
   "attachments": {},
   "cell_type": "markdown",
   "id": "15b26a6c",
   "metadata": {},
   "source": [
    "### str.count()\n",
    "\n",
    "retorna a quantidade de vezes que o caractere aparece na string"
   ]
  },
  {
   "cell_type": "code",
   "execution_count": 18,
   "id": "02f9b144",
   "metadata": {},
   "outputs": [
    {
     "data": {
      "text/plain": [
       "2"
      ]
     },
     "execution_count": 18,
     "metadata": {},
     "output_type": "execute_result"
    }
   ],
   "source": [
    "texto=\"Hello\"\n",
    "texto.count('l')"
   ]
  },
  {
   "attachments": {},
   "cell_type": "markdown",
   "id": "abad89c7",
   "metadata": {},
   "source": [
    "### Métodos embutidos em strings\n",
    "\n",
    "- `.upper()` *retorna uma string com todos os caracteres da string como maisculos*\n",
    "- `.lower()`  *retorna uma string com todos os caracteres da string como minusculos*\n",
    "- `.split()`   *retorna uma lista com cada elemento sendo uma uma das palavras da string* \n",
    "- `.replace(\"a\",\"b\")`   *retorna uma string substituindo o caractere \"a\" pelo caractere \"\"b* \n",
    "- `.startswith(\"a\")`   *retorna True se a string se inicia com o caractere \"a\"* \n",
    "- `.endswith(\"a\")`   *retorna True se a string termina com o caractere \"a\"* "
   ]
  },
  {
   "cell_type": "code",
   "execution_count": 19,
   "id": "1c3a3c77",
   "metadata": {},
   "outputs": [
    {
     "name": "stdout",
     "output_type": "stream",
     "text": [
      "upper() : RENATO LOPES\n",
      "lower() : renato lopes\n",
      "replace(\"\",\"_\") : _R_e_N_a_t_o_ _L_o_P_E_S_\n",
      "startswith(\"a\") : False\n",
      "<class 'list'>\n",
      "['ReNato', 'LoPES']\n"
     ]
    }
   ],
   "source": [
    "n=input(\"Digite seu nome e sobrenome com uma mistura de letras maiusculas e minusculas: \")\n",
    "print(\"upper() :\",n.upper())\n",
    "print(\"lower() :\",n.lower())\n",
    "print('replace(\"\",\"_\") :',n.replace(\"\",\"_\"))\n",
    "print('startswith(\"a\") :' ,n.startswith(\"a\"))\n",
    "print(type(n.split()))\n",
    "print(n.split())"
   ]
  },
  {
   "attachments": {},
   "cell_type": "markdown",
   "id": "ede3d07a",
   "metadata": {},
   "source": [
    "________________\n",
    "\n",
    "\n",
    "# Coleções de Dados\n",
    "\n",
    "- Sequências\n",
    "  - list\n",
    "  - tuple\n",
    "  - range*\n",
    "- Mapping:\n",
    "  - dict    \n",
    "- Sets\n",
    "  - set  \n",
    "  - frozenset*\n",
    "\n",
    "<br/>\n",
    "\n",
    "<div>\n",
    "<img src=\"images\\collections.png\" width=\"800\"/>\n",
    "</div> \n",
    "> https://medium.com/@meghamohan/mutable-and-immutable-side-of-python-c2145cf72747"
   ]
  },
  {
   "attachments": {},
   "cell_type": "markdown",
   "id": "497f3d61",
   "metadata": {},
   "source": [
    "\n",
    "## Listas\n",
    "\n",
    "```python\n",
    "estudantes = ['José', 'Lucas', 'Ana', 'Enzo', 'Valentina']\n",
    "```\n",
    "\n",
    "`list` são coleções ordenadas que podem ser formadas por variáveis de qualquer tipo. Desta forma, é possível acessar qualquer um dos seus itens armazenados se você indicar a posição (índice) deles.\n",
    "\n",
    "\n",
    "<div>\n",
    "<img src=\"images\\List.webp\" width=\"500\"/>\n",
    "</div>\n",
    "\n",
    "> *Obs.: Os índices sempre começam a ser contados do 0.*"
   ]
  },
  {
   "cell_type": "code",
   "execution_count": 20,
   "id": "45e0b240",
   "metadata": {},
   "outputs": [
    {
     "name": "stdout",
     "output_type": "stream",
     "text": [
      "['José', 'Lucas', 'Ana', 'Enzo', 'Valentina']\n",
      "4\n"
     ]
    },
    {
     "data": {
      "text/plain": [
       "'Enzo'"
      ]
     },
     "execution_count": 20,
     "metadata": {},
     "output_type": "execute_result"
    }
   ],
   "source": [
    "estudantes = ['José', 'Lucas', 'Ana','Enzo','Valentina']\n",
    "print(estudantes)\n",
    "print(len(estudantes[0]))\n",
    "# primeiro elemento\n",
    "estudantes[0]\n",
    "\n",
    "# segundo elemento\n",
    "estudantes[1]\n",
    "\n",
    "# último elemento\n",
    "estudantes[-1]\n",
    "\n",
    "# penúltimo elemento\n",
    "estudantes[-2]"
   ]
  },
  {
   "attachments": {},
   "cell_type": "markdown",
   "id": "53ceeb0d",
   "metadata": {},
   "source": [
    "### Manipulação de listas\n",
    "\n",
    "Listas são coleções mutáveis e podem ser manipuladas acessando a posição de um determinado elemento.\n",
    "\n",
    "```python\n",
    "lista[0] = 'outro elemento'\n",
    "```\n",
    "\n",
    "Adicionando e removendo elementos:\n",
    "\n",
    "- `lista.append(elem)` adiciona um elemento ao final da lista\n",
    "- `lista.insert(pos, elem)` adiciona um elemento em uma posição especificada\n",
    "- `del(lista[pos])` remove um elemento específico\n",
    "- `elem_removido = lista.pop()` remove o último elemento\n",
    "- `elem_removido = lista.pop(pos)` remove um elemento de uma posição específica\n",
    "- `lista.remove(elem)` remove o elemento pela busca\n",
    "\n",
    "> Obs.: Tambem é possivel criar uma lista com a função range() e o cast list() para transformar uma variavel range em variavel lista\n"
   ]
  },
  {
   "cell_type": "code",
   "execution_count": 21,
   "id": "53bf5cb0",
   "metadata": {},
   "outputs": [
    {
     "name": "stdout",
     "output_type": "stream",
     "text": [
      "type(range1) <class 'range'>\n",
      "lista: [0, 1, 2, 3, 4, 5, 6, 7, 8, 9]\n"
     ]
    }
   ],
   "source": [
    "range1=range(10)\n",
    "print('type(range1)',type(range1))\n",
    "lista=list(range(10))\n",
    "print('lista:',lista)\n"
   ]
  },
  {
   "attachments": {},
   "cell_type": "markdown",
   "id": "ee72b48b",
   "metadata": {},
   "source": [
    "### Ordenando listas\n",
    "\n",
    "```python\n",
    "# mantém a lista\n",
    "nova_lista = sorted(lista)\n",
    "nova_lista = sorted(lista, reverse=True)\n",
    "```\n",
    "\n",
    "```python\n",
    "# modifica a lista\n",
    "lista.sort()\n",
    "lista.sort(reverse=True)\n",
    "```\n",
    "\n",
    "> *Obs.: Tanto a função `sort()` quanto a `sorted()` só ordenam listas que tenham números ou strings, mas não ambos ao mesmo tempo. Para isso, seria necessário usar a função `str()` para converter os números em strings.*\n",
    "\n",
    "```python\n",
    "# inverte a ordem atual dos elementos\n",
    "lista.reverse()\n",
    "```"
   ]
  },
  {
   "attachments": {},
   "cell_type": "markdown",
   "id": "809af99b",
   "metadata": {},
   "source": [
    "### Outras funções úteis para listas e Containers em geral\n",
    "\n",
    "Para containers como listas,matrizes,tuplas, dicionarios e set exitem algumas funções uteis:\n",
    "\n",
    "\n",
    "- `len(c)` contagem de itens no container c\n",
    "- `min(c), max(c) , sum (c)` retorna o valor minimo, maximo ou soma de todos os itens no container c\n",
    "- `sorted(c)` copia ordenada dos itens no container c\n",
    "- `valor in c` lógico, operador de presença in (ausência not in)\n",
    "- `enumerate(c)` iterador sobre (indice, valor)\n",
    "\n",
    "> Obs.: para dicionarios e sets estas operações utilizam chaves {} , por exemplo para a contagem dos itens em um dicionario o comando seria len{c}\n",
    "\n",
    "Especial para containers de sequências (listas, tuplas, cadeias):\n",
    "\n",
    "(falta ajustar)\n",
    "<div>\n",
    "<img src=\"attachment:image.png\" width=\"500\"/>\n",
    "</div>\n",
    "\n",
    "\n"
   ]
  },
  {
   "cell_type": "code",
   "execution_count": 22,
   "id": "dd1302cd",
   "metadata": {},
   "outputs": [
    {
     "name": "stdout",
     "output_type": "stream",
     "text": [
      "len(estudantes) :  5\n",
      "nums[1]: 1\n",
      "sum(nums) 45\n",
      "min([1,2,3,4,5]) : 1\n",
      "max([1,2,3,4,5]) : 5\n",
      "['José', 'Lucas', 'Ana', 'Enzo', 'Valentina']\n",
      "['José', 'Lucas', 'Ana', 'Enzo']\n"
     ]
    }
   ],
   "source": [
    "estudantes = ['José', 'Lucas', 'Ana', 'Enzo', 'Valentina']\n",
    "\n",
    "# quantidade de elementos\n",
    "print('len(estudantes) : ',len(estudantes))\n",
    "\n",
    "# criar lista de números com o comando range\n",
    "\n",
    "nums=range(10)\n",
    "print('nums[1]:',nums[1])\n",
    "print('sum(nums)',sum(nums))\n",
    "# menor valor da lista\n",
    "num=[1,2,3,4,5]\n",
    "print('min([1,2,3,4,5]) :',min(num))\n",
    "\n",
    "# maior valor da lista\n",
    "print('max([1,2,3,4,5]) :',max(num))\n",
    "\n",
    "\n",
    "# seleção de uma lista\n",
    "sub_lista=estudantes[0:4]\n",
    "print(estudantes)\n",
    "print(sub_lista)\n",
    "\n",
    "# criar uma cópia de uma lista (perdendo a referência)\n",
    "\n",
    "outra_lista=estudantes[:]"
   ]
  },
  {
   "attachments": {},
   "cell_type": "markdown",
   "id": "270e35fb",
   "metadata": {},
   "source": [
    "\n",
    "\n",
    "\n",
    "## Matrizes\n",
    "\n",
    "<div>\n",
    "<img src=\"images\\Matriz.png\" width=\"300\"/>\n",
    "</div>\n",
    "\n",
    "\n",
    "```python\n",
    "matriz = [['José', 'Maria', 'Tiago', 'Pablo', 'Luana'], ['Palmeiras', 'Flamengo', 'Sport', 'Treze', 'Cruzeiro']]\n",
    "```"
   ]
  },
  {
   "attachments": {},
   "cell_type": "markdown",
   "id": "79608ccb",
   "metadata": {},
   "source": [
    "\n",
    "\n",
    "## Tuplas\n",
    "\n",
    "Como listas são objetos mutávies, há bastante liberdade para alterar seus itens, acontece que em algumas situções, essas listas não deveriam ser alteradas, tais como:\n",
    "- Dias da semana;\n",
    "- Naipes de um baralho;\n",
    "\n",
    "Para essas situações podemos usar `Tuplas`, que são estruturas de dados imutáveis:\n",
    "\n",
    "```python\n",
    "t = ('domingo', 'segunda', 'terça', 'quarta', 'quinta', 'sexta', 'sábado')\n",
    "```\n",
    "\n",
    ">Obs.: *O acesso aos elementos da tupla é feito da mesma forma que com listas*"
   ]
  },
  {
   "cell_type": "code",
   "execution_count": 23,
   "id": "7b463fcd",
   "metadata": {},
   "outputs": [
    {
     "name": "stdout",
     "output_type": "stream",
     "text": [
      "domingo\n",
      "domingo\n",
      "7\n",
      "5\n",
      "1\n"
     ]
    }
   ],
   "source": [
    "# Criação de uma Tupla vs Lista\n",
    "l = ['domingo', 'segunda', 'terça', 'quarta', 'quinta', 'sexta', 'sábado']\n",
    "t = ('domingo', 'segunda', 'terça', 'quarta', 'quinta', 'sexta', 'sábado')\n",
    "\n",
    "# Acesso aos elementos de uma Tupla\n",
    "print(l[0])\n",
    "print(t[0])\n",
    "\n",
    "# len()\n",
    "print(len(t))\n",
    "\n",
    "# tupla.index(item)\n",
    "print(t.index('sexta'))\n",
    "\n",
    "# tupla.count(item)\n",
    "print(t.count('sexta'))\n",
    "\n",
    "# Imutabilidade\n",
    "\n"
   ]
  },
  {
   "attachments": {},
   "cell_type": "markdown",
   "id": "2ab996ff",
   "metadata": {},
   "source": [
    "## Set (*conjunto*)\n",
    "\n",
    "Tanto em **listas**, quanto em **tuplas**, é possível ter elementos repetidos:\n",
    "\n",
    "```python\n",
    "l = [0, 1, 1, 2, 3, 5]\n",
    "t = (0, 1, 1, 2, 3, 5)\n",
    "```\n",
    "\n",
    "Quanto houver uma situação onde você não deva armazenar itens repetidos numa lista, é possível usar um `set`:\n",
    "\n",
    "```python\n",
    "s = set()\n",
    "s.add(1)\n",
    "s.add(2)\n",
    "s.add(1)\n",
    "```"
   ]
  },
  {
   "attachments": {},
   "cell_type": "markdown",
   "id": "abc33574",
   "metadata": {},
   "source": [
    "## Dicionários\n",
    "\n",
    "Para criar estruturas de dados que são mapeados por valores (e não pelo indice, como nas listas) é possível usar um dicionário.\n",
    "\n",
    "> **Chave** : **Valor**\n",
    "\n",
    "Obs.: *O mapeamento é feito pela chave (e não pela ordem)*\n",
    "\n",
    "Exemplos de uso prático:\n",
    "- Dicionários;\n",
    "- CEP;\n",
    "\n",
    "```python\n",
    "dicionario = {'chave': 'valor1', 'chave2': 'valor2'}\n",
    "```"
   ]
  },
  {
   "cell_type": "code",
   "execution_count": 24,
   "id": "21b35082",
   "metadata": {},
   "outputs": [
    {
     "name": "stdout",
     "output_type": "stream",
     "text": [
      "cão\n"
     ]
    }
   ],
   "source": [
    "# Criando um dicionário\n",
    "\n",
    "d={'dog':'cão','home':'casa',10:True}\n",
    "# Acessando elementos de um dicionário\n",
    "print(d['dog'])\n",
    "\n",
    "# Adição de itens por atribuição\n",
    "d['cat']='gato'"
   ]
  },
  {
   "attachments": {},
   "cell_type": "markdown",
   "id": "b40d32ab",
   "metadata": {},
   "source": [
    "### Alguns métodos úteis de dicionários:\n",
    "\n",
    "- dict.keys() - Apresenta todas as chaves do dicionário\n",
    "- dict.values() - Apresenta todos os valores do dicionário\n",
    "- dict.items() - dict_keys() + dict_values()"
   ]
  },
  {
   "cell_type": "code",
   "execution_count": 25,
   "id": "f717db9e",
   "metadata": {},
   "outputs": [
    {
     "name": "stdout",
     "output_type": "stream",
     "text": [
      "dict_keys(['dog', 'home', 10, 'cat'])\n",
      "dict_values(['cão', 'casa', True, 'gato'])\n",
      "dict_items([('dog', 'cão'), ('home', 'casa'), (10, True), ('cat', 'gato')])\n",
      "A chave é dog e o valor é cão\n",
      "A chave é home e o valor é casa\n",
      "A chave é 10 e o valor é True\n",
      "A chave é cat e o valor é gato\n"
     ]
    }
   ],
   "source": [
    "# .keys()\n",
    "print(d.keys())\n",
    "\n",
    "# .values()\n",
    "print(d.values())\n",
    "\n",
    "# .items()\n",
    "print(d.items())\n",
    "\n",
    "# for em .items\n",
    "for i in d.items():\n",
    " print(f'A chave é {i[0]} e o valor é {i[1]}')\n",
    "\n",
    "#A chave é [chave] e o valor é [valor]\n"
   ]
  },
  {
   "cell_type": "code",
   "execution_count": 26,
   "id": "05dcad24",
   "metadata": {},
   "outputs": [
    {
     "name": "stdout",
     "output_type": "stream",
     "text": [
      "Eita\n"
     ]
    }
   ],
   "source": [
    "if 10<5:\n",
    "  pass\n",
    "elif 15>3:\n",
    "  print('Eita')"
   ]
  },
  {
   "attachments": {},
   "cell_type": "markdown",
   "id": "d935ceb3",
   "metadata": {},
   "source": [
    "___\n",
    "\n",
    "\n",
    "# Estruturas de Repetição\n",
    "\n",
    "Em python, há apenas duas estruturas primitivas de repetição:\n",
    "- `for`\n",
    "- `while`"
   ]
  },
  {
   "attachments": {},
   "cell_type": "markdown",
   "id": "d05e2eca",
   "metadata": {},
   "source": [
    "## for\n",
    "\n",
    "Essa estrutura é um iterador, ou seja, ele percorre itens que estão em sequência, tais como listas ou strings.\n",
    "\n",
    "```python\n",
    "for item in objeto:\n",
    "  # código que vai repetir\n",
    "```\n",
    "\n",
    "O `for` pode ainda receber o comando `else` que só será executado se o `for` chegar ao final.\n",
    "\n",
    "```python\n",
    "for item in objeto:\n",
    "  # código que vai repetir\n",
    "else:\n",
    "  # executa apenas se o for checar ao final\n",
    "```\n",
    "\n",
    ">Obs.: *o objeto à ser percorrido pode ser um range, lista, string, tupla, dicionario ou um objeto que permita iterações, se for escolhido range, o mesmo pode ser especificado de duas formas:*\n",
    "- range(parada) : 0,1,2,...,parada-1\n",
    "- range(inicio, parada, incrmento) : inicio,inicio+incremento,...parada-1"
   ]
  },
  {
   "cell_type": "code",
   "execution_count": 27,
   "id": "1267ae47",
   "metadata": {},
   "outputs": [
    {
     "name": "stdout",
     "output_type": "stream",
     "text": [
      "for itens in lista:\n",
      "10\n",
      "23\n",
      "34\n",
      "41\n",
      "for i in range(int):\n",
      "10\n",
      "23\n",
      "**********\n",
      "for i in string:\n",
      "R\n",
      "e\n",
      "n\n",
      "a\n",
      "t\n",
      "o\n",
      " \n",
      "L\n",
      "o\n",
      "p\n",
      "e\n",
      "s\n"
     ]
    }
   ],
   "source": [
    "l =[10,23,34,41]\n",
    "# for em lista\n",
    "print(\"for itens in lista:\")\n",
    "for itens in l:\n",
    "  print(itens)\n",
    "# range()\n",
    "print(\"for i in range(int):\")\n",
    "for i in range(2):\n",
    "  print(l[i])\n",
    "print('*'*10)\n",
    "# str\n",
    "print(\"for i in string:\")\n",
    "for letra in 'Renato Lopes':\n",
    "  print(letra)\n",
    "\n",
    "# for com else"
   ]
  },
  {
   "cell_type": "code",
   "execution_count": 28,
   "id": "4a4ac2a4",
   "metadata": {},
   "outputs": [
    {
     "name": "stdout",
     "output_type": "stream",
     "text": [
      "A média é: 6.8\n",
      "A nota  8.0 foi maior que a média\n",
      "A nota  8.0 foi maior que a média\n",
      "A nota  9.0 foi maior que a média\n"
     ]
    }
   ],
   "source": [
    "#EXEMPLO 2\n",
    "\n",
    "notas=[]\n",
    "for i in range(5):\n",
    "    notas.append(float(input(\"Digite a nota do Aluno: \")))\n",
    "    \n",
    "media=sum(notas)/5\n",
    "print(\"A média é:\", media)\n",
    "\n",
    "for i in range(5):\n",
    "    if notas[i]>media:\n",
    "        print(\"A nota \", notas[i], \"foi maior que a média\")"
   ]
  },
  {
   "attachments": {},
   "cell_type": "markdown",
   "id": "866fc5a8",
   "metadata": {},
   "source": [
    "## While\n",
    "\n",
    "Essa estrutura permite repetir um trecho de código enquanto uma condição for verdadeira"
   ]
  },
  {
   "cell_type": "code",
   "execution_count": 29,
   "id": "972014a4",
   "metadata": {},
   "outputs": [
    {
     "name": "stdout",
     "output_type": "stream",
     "text": [
      "1\n",
      "2\n",
      "3\n",
      "4\n",
      "5\n",
      "6\n",
      "7\n",
      "8\n",
      "9\n",
      "10\n",
      "11\n"
     ]
    }
   ],
   "source": [
    "i=0\n",
    "while i<=10:\n",
    "   i=i+1\n",
    "   print(i)"
   ]
  },
  {
   "attachments": {},
   "cell_type": "markdown",
   "id": "882af0aa",
   "metadata": {},
   "source": [
    "Aproveitamento do Jogador (EXEMPLO)\n",
    "\n",
    "Crie um programa que gerencie o aproveitamento de um jogador de futebol. O\n",
    "programa vai ler o nome do jogador e quantidade de partidas jogadas. Depois vai ler a\n",
    "quantidade de gols feitos em cada partida. No final, tudo isso será guardado em um\n",
    "dicionário, incluindo o total de gols feitos durante o campeonato. Saída igual a\n",
    "imagem abaixo.\n",
    "\n",
    "\n",
    "<div>\n",
    "<img src=\"while.JPG\" width=\"300\"/>\n",
    "</div> "
   ]
  },
  {
   "cell_type": "code",
   "execution_count": 31,
   "id": "af85cd7c",
   "metadata": {},
   "outputs": [
    {
     "name": "stdout",
     "output_type": "stream",
     "text": [
      "CADASTRO DESEMPENHO JOGADOR\n",
      "Digitar nome e gols por partida\n"
     ]
    },
    {
     "ename": "ValueError",
     "evalue": "invalid literal for int() with base 10: ''",
     "output_type": "error",
     "traceback": [
      "\u001b[1;31m---------------------------------------------------------------------------\u001b[0m",
      "\u001b[1;31mValueError\u001b[0m                                Traceback (most recent call last)",
      "Cell \u001b[1;32mIn[31], line 10\u001b[0m\n\u001b[0;32m      8\u001b[0m i \u001b[39m=\u001b[39m \u001b[39m1\u001b[39m\n\u001b[0;32m      9\u001b[0m \u001b[39mwhile\u001b[39;00m \u001b[39mTrue\u001b[39;00m:\n\u001b[1;32m---> 10\u001b[0m   g \u001b[39m=\u001b[39m \u001b[39mint\u001b[39;49m(\u001b[39minput\u001b[39;49m(\u001b[39mf\u001b[39;49m\u001b[39m\"\u001b[39;49m\u001b[39mPartida \u001b[39;49m\u001b[39m{\u001b[39;49;00mi\u001b[39m}\u001b[39;49;00m\u001b[39m - Gols Marcados: (999 para sair)\u001b[39;49m\u001b[39m\"\u001b[39;49m))\n\u001b[0;32m     11\u001b[0m   \u001b[39mif\u001b[39;00m g \u001b[39m!=\u001b[39m \u001b[39m999\u001b[39m:\n\u001b[0;32m     12\u001b[0m     desempenho\u001b[39m.\u001b[39mappend(g)\n",
      "\u001b[1;31mValueError\u001b[0m: invalid literal for int() with base 10: ''"
     ]
    }
   ],
   "source": [
    "print(\"CADASTRO DESEMPENHO JOGADOR\")\n",
    "print(\"Digitar nome e gols por partida\")\n",
    "atletas = {}\n",
    "while True:\n",
    "  jogador = input(\"Nome: (Sair para encerrar)\")\n",
    "  if jogador.upper() != \"SAIR\":\n",
    "    desempenho = []\n",
    "    i = 1\n",
    "    while True:\n",
    "      g = int(input(f\"Partida {i} - Gols Marcados: (999 para sair)\"))\n",
    "      if g != 999:\n",
    "        desempenho.append(g)\n",
    "        i += 1\n",
    "      else:\n",
    "        break\n",
    "    entrada = {jogador:desempenho}\n",
    "    atletas.update(entrada)\n",
    "  else:\n",
    "    break\n",
    "medias = {}\n",
    "print(\"Desempenhos\")\n",
    "for k, v in atletas.items():\n",
    "  print(f\"O jogador {k} marcou {sum(v)} gols em {len(v)} partidas\")\n",
    "  entrada = {k:sum(v)/len(v)}\n",
    "  medias.update(entrada)\n",
    "print(\"Ranking\")\n",
    "ranking = sorted(medias.items(), key = lambda item : item[1], reverse = True)\n",
    "for i in range (len(ranking)):\n",
    "  print(f\"{i+1}º lugar: {ranking[i][0]} - {ranking[i][1]:.1f} gols por partida\")"
   ]
  },
  {
   "attachments": {},
   "cell_type": "markdown",
   "id": "17544f7a",
   "metadata": {},
   "source": [
    "## else, break, continue e pass\n",
    "\n",
    "- `else`: Pode ser usado em qualquer estrutura de repetição\n",
    "- `break`: Interrompe o loop\n",
    "- `continue`: Vai para o próximo loop\n",
    "- `pass`: não faz nada (*também pode ser usado em entruturas condicionais*)"
   ]
  },
  {
   "cell_type": "code",
   "execution_count": 32,
   "id": "f8867df3",
   "metadata": {},
   "outputs": [
    {
     "name": "stdout",
     "output_type": "stream",
     "text": [
      "Eita\n"
     ]
    }
   ],
   "source": [
    "if 10<5:\n",
    "  pass\n",
    "elif 15>3:\n",
    "  print('Eita')"
   ]
  },
  {
   "attachments": {},
   "cell_type": "markdown",
   "id": "78796dcd",
   "metadata": {},
   "source": [
    "\n",
    "___\n",
    "\n",
    "# Funções\n",
    "\n",
    "Para definir uma função, ou seja, implementa-la, é necessário usar o comando `def` seguido do nome da função, uma par de parênteses e dois pontos:\n",
    "\n",
    "```python\n",
    "def boas_vindas():\n",
    "  print('Bem-vindo(a) à CESAR School!')\n",
    "```\n",
    "\n",
    "Para executar a função, basta chama-la por sua assinatura:\n",
    "\n",
    "```python\n",
    "boas_vindas()"
   ]
  },
  {
   "cell_type": "code",
   "execution_count": 33,
   "id": "6b7f6102",
   "metadata": {},
   "outputs": [
    {
     "name": "stdout",
     "output_type": "stream",
     "text": [
      "ola renato!\n",
      "ola Eron!\n"
     ]
    }
   ],
   "source": [
    "def oi (nome:str):\n",
    "  print (f'ola {nome}!')\n",
    "oi('renato')\n",
    "oi('Eron')"
   ]
  },
  {
   "attachments": {},
   "cell_type": "markdown",
   "id": "0fa486d0",
   "metadata": {},
   "source": [
    "Imprimir (EXEMPLO)\n",
    "\n",
    "Faça uma função para imprimir como imagem abaixo:\n",
    "\n",
    "<div>\n",
    "<img src=\"images\\func.JPG\" width=\"600\"/>\n",
    "</div> "
   ]
  },
  {
   "cell_type": "code",
   "execution_count": 34,
   "id": "54b1e200",
   "metadata": {},
   "outputs": [
    {
     "name": "stdout",
     "output_type": "stream",
     "text": [
      "\n",
      "\n",
      "1 \n",
      "2 2 \n",
      "3 3 3 \n",
      "4 4 4 4 \n",
      "5 5 5 5 5 \n",
      "6 6 6 6 6 6 \n",
      "7 7 7 7 7 7 7 \n",
      "8 8 8 8 8 8 8 8 \n",
      "9 9 9 9 9 9 9 9 9 \n",
      "10 10 10 10 10 10 10 10 10 10 "
     ]
    }
   ],
   "source": [
    "def imprimir (n):\n",
    "    for i in range(n+1):\n",
    "         print (\"\")\n",
    "         for j in range (i):\n",
    "                print(i,end=\" \")\n",
    "    return\n",
    "\n",
    "imprimir(10)"
   ]
  },
  {
   "attachments": {},
   "cell_type": "markdown",
   "id": "dbe6c5f8",
   "metadata": {},
   "source": [
    "## Argumentos posicionais e nomeados\n",
    "\n",
    "- Posicional: Quando são passados na mesma ordem dos parâmetros\n",
    "- Nomeados: Um par nome-valor passados para a função\n",
    "\n",
    "```python\n",
    "# V = d/t\n",
    "def velocidade(distancia, tempo):\n",
    "  print(distancia/tempo)\n",
    "```"
   ]
  },
  {
   "cell_type": "code",
   "execution_count": 35,
   "id": "eeb77222",
   "metadata": {},
   "outputs": [],
   "source": [
    "# posicional\n",
    "\n",
    "\n",
    "# nomeado"
   ]
  },
  {
   "attachments": {},
   "cell_type": "markdown",
   "id": "f58cfee4",
   "metadata": {},
   "source": [
    "## Parâmetros predefinidos (default)\n",
    "\n",
    "```python\n",
    " print(*objects, sep=' ', end='\\n', file=sys.stdout, flush=False)\n",
    "```"
   ]
  },
  {
   "cell_type": "code",
   "execution_count": 36,
   "id": "5abc67ff",
   "metadata": {},
   "outputs": [
    {
     "name": "stdout",
     "output_type": "stream",
     "text": [
      "10_oi_12.3*10 oi 12.3\n"
     ]
    }
   ],
   "source": [
    "print(10,'oi',12.3,sep='_',end='*')\n",
    "print(10,'oi',12.3,sep=\" \")"
   ]
  },
  {
   "attachments": {},
   "cell_type": "markdown",
   "id": "d3869067",
   "metadata": {},
   "source": [
    "## Retornando Valores\n",
    "\n",
    "`return`"
   ]
  },
  {
   "attachments": {},
   "cell_type": "markdown",
   "id": "c8ce8c8e",
   "metadata": {},
   "source": [
    "## Passando um número arbitrário de argumentos (*args*)\n",
    "\n",
    "É possível definir um parâmetro que receberá uma quantidade indeterminada de valores. Basca usar o `*` antes do nome da variável. Dentro do método, ele será interpretado como uma lista.\n",
    "\n",
    "```python\n",
    "def prepara_acai(*ingredientes, tamanho='medio')\n",
    "```"
   ]
  },
  {
   "cell_type": "code",
   "execution_count": 37,
   "id": "c579819a",
   "metadata": {},
   "outputs": [
    {
     "name": "stdout",
     "output_type": "stream",
     "text": [
      "['granola', 'leite condensado', 'banana', 'M&M'],tamanho é grande\n",
      "**********\n",
      "banana,tamanho é pequeno\n",
      "**********\n",
      "caramelo,cahorro,salcicha,tamanho é medio\n",
      "**********\n"
     ]
    }
   ],
   "source": [
    "def prepara_acai(*ingredientes, tamanho='medio'):\n",
    " for ing in ingredientes:\n",
    "  print(ing, end=',')\n",
    " print(f'tamanho é {tamanho}')\n",
    " print('*'*10)\n",
    "\n",
    "prepara_acai(['granola','leite condensado','banana','M&M'],tamanho='grande')\n",
    "prepara_acai('banana',tamanho=\"pequeno\")\n",
    "prepara_acai('caramelo','cahorro','salcicha')"
   ]
  },
  {
   "attachments": {},
   "cell_type": "markdown",
   "id": "3705d95e",
   "metadata": {},
   "source": [
    "___\n",
    "\n",
    "# Codigo para uso de arquivos no colab\n",
    "\n",
    "from google.colab import drive\n",
    "\n",
    "drive.mount('/content/drive')"
   ]
  },
  {
   "attachments": {},
   "cell_type": "markdown",
   "id": "e3bf7aeb",
   "metadata": {},
   "source": [
    "[Exercício 2: Experiências](https://www.urionlinejudge.com.br/judge/pt/problems/view/1094)"
   ]
  },
  {
   "attachments": {},
   "cell_type": "markdown",
   "id": "d40f6e83",
   "metadata": {},
   "source": [
    "___\n",
    "\n",
    "# Módulos \n",
    "\n",
    "<a id='modulos'></a>\n",
    "\n",
    "Por mais que a linguagem Python venha com uma série de recursos que otimizam bastante o tempo de desenvolvimento dos algoritmos, ela não é completa. Há uma série de cálculos, estruturas de dados e recursos para tratar com formatos de arquivos específicos que não está disponível nativamente na linguagem.\n",
    "\n",
    "Para evitar o esforço de \"reinventar a roda\", podemos importar tais recursos desenvolvidos por outros programadores como **módulos**. Além disso, podemos criar nossos próprios módulos, que podem ser usados diversas vezes em um ou vários projetos.\n",
    "\n",
    "> Módulos são partes (blocos) de código usados para solucionar um problema como um conjunto de funções. Os módulos podem ser reutilizados em várias aplicações.\n",
    "\n",
    "https://docs.python.org/pt-br/3/tutorial/modules.html"
   ]
  },
  {
   "attachments": {},
   "cell_type": "markdown",
   "id": "1e25c6c7",
   "metadata": {},
   "source": [
    "## Instalando Módulos\n",
    "\n",
    "Para utilizar um módulo/biblioteca no python é necessario primeiro instalar a mesma com os comandos abaixo, seja no prompt de comando ou direto no notebook python (tenha preferencia por utilizar o prompt de comando quando trabalhando local e direto no notebook ao utilizar o colab):\n",
    "\n",
    "\n",
    "\n"
   ]
  },
  {
   "cell_type": "code",
   "execution_count": 38,
   "id": "f50658e8",
   "metadata": {},
   "outputs": [
    {
     "name": "stdout",
     "output_type": "stream",
     "text": [
      "Requirement already satisfied: pandas in c:\\users\\renato.lopes\\appdata\\local\\programs\\python\\python311\\lib\\site-packages (2.0.2)\n",
      "Requirement already satisfied: python-dateutil>=2.8.2 in c:\\users\\renato.lopes\\appdata\\roaming\\python\\python311\\site-packages (from pandas) (2.8.2)\n",
      "Requirement already satisfied: pytz>=2020.1 in c:\\users\\renato.lopes\\appdata\\local\\programs\\python\\python311\\lib\\site-packages (from pandas) (2023.3)\n",
      "Requirement already satisfied: tzdata>=2022.1 in c:\\users\\renato.lopes\\appdata\\local\\programs\\python\\python311\\lib\\site-packages (from pandas) (2023.3)\n",
      "Requirement already satisfied: numpy>=1.21.0 in c:\\users\\renato.lopes\\appdata\\local\\programs\\python\\python311\\lib\\site-packages (from pandas) (1.24.3)\n",
      "Requirement already satisfied: six>=1.5 in c:\\users\\renato.lopes\\appdata\\roaming\\python\\python311\\site-packages (from python-dateutil>=2.8.2->pandas) (1.16.0)\n",
      "Requirement already satisfied: seaborn in c:\\users\\renato.lopes\\appdata\\local\\programs\\python\\python311\\lib\\site-packages (0.12.2)\n",
      "Requirement already satisfied: numpy!=1.24.0,>=1.17 in c:\\users\\renato.lopes\\appdata\\local\\programs\\python\\python311\\lib\\site-packages (from seaborn) (1.24.3)\n",
      "Requirement already satisfied: pandas>=0.25 in c:\\users\\renato.lopes\\appdata\\local\\programs\\python\\python311\\lib\\site-packages (from seaborn) (2.0.2)\n",
      "Requirement already satisfied: matplotlib!=3.6.1,>=3.1 in c:\\users\\renato.lopes\\appdata\\local\\programs\\python\\python311\\lib\\site-packages (from seaborn) (3.7.1)\n",
      "Requirement already satisfied: contourpy>=1.0.1 in c:\\users\\renato.lopes\\appdata\\local\\programs\\python\\python311\\lib\\site-packages (from matplotlib!=3.6.1,>=3.1->seaborn) (1.1.0)\n",
      "Requirement already satisfied: cycler>=0.10 in c:\\users\\renato.lopes\\appdata\\local\\programs\\python\\python311\\lib\\site-packages (from matplotlib!=3.6.1,>=3.1->seaborn) (0.11.0)\n",
      "Requirement already satisfied: fonttools>=4.22.0 in c:\\users\\renato.lopes\\appdata\\local\\programs\\python\\python311\\lib\\site-packages (from matplotlib!=3.6.1,>=3.1->seaborn) (4.40.0)\n",
      "Requirement already satisfied: kiwisolver>=1.0.1 in c:\\users\\renato.lopes\\appdata\\local\\programs\\python\\python311\\lib\\site-packages (from matplotlib!=3.6.1,>=3.1->seaborn) (1.4.4)\n",
      "Requirement already satisfied: packaging>=20.0 in c:\\users\\renato.lopes\\appdata\\roaming\\python\\python311\\site-packages (from matplotlib!=3.6.1,>=3.1->seaborn) (23.1)\n",
      "Requirement already satisfied: pillow>=6.2.0 in c:\\users\\renato.lopes\\appdata\\local\\programs\\python\\python311\\lib\\site-packages (from matplotlib!=3.6.1,>=3.1->seaborn) (9.5.0)\n",
      "Requirement already satisfied: pyparsing>=2.3.1 in c:\\users\\renato.lopes\\appdata\\local\\programs\\python\\python311\\lib\\site-packages (from matplotlib!=3.6.1,>=3.1->seaborn) (3.0.9)\n",
      "Requirement already satisfied: python-dateutil>=2.7 in c:\\users\\renato.lopes\\appdata\\roaming\\python\\python311\\site-packages (from matplotlib!=3.6.1,>=3.1->seaborn) (2.8.2)\n",
      "Requirement already satisfied: pytz>=2020.1 in c:\\users\\renato.lopes\\appdata\\local\\programs\\python\\python311\\lib\\site-packages (from pandas>=0.25->seaborn) (2023.3)\n",
      "Requirement already satisfied: tzdata>=2022.1 in c:\\users\\renato.lopes\\appdata\\local\\programs\\python\\python311\\lib\\site-packages (from pandas>=0.25->seaborn) (2023.3)\n",
      "Requirement already satisfied: six>=1.5 in c:\\users\\renato.lopes\\appdata\\roaming\\python\\python311\\site-packages (from python-dateutil>=2.7->matplotlib!=3.6.1,>=3.1->seaborn) (1.16.0)\n"
     ]
    }
   ],
   "source": [
    "# Install a pip package in the current Jupyter kernel se já não tiver instalado\n",
    "# o comando -q no final quebra as linhas para não ficar muito grando o promt de output enquanto está rodando o install\n",
    "import sys\n",
    "!{sys.executable} -m pip install numpy -q\n",
    "!{sys.executable} -m pip install pandas\n",
    "!{sys.executable} -m pip install seaborn"
   ]
  },
  {
   "cell_type": "code",
   "execution_count": 39,
   "id": "d9124311",
   "metadata": {},
   "outputs": [
    {
     "name": "stdout",
     "output_type": "stream",
     "text": [
      "Requirement already satisfied: dash in c:\\users\\renato.lopes\\appdata\\local\\programs\\python\\python311\\lib\\site-packages (2.10.2)\n",
      "Requirement already satisfied: Flask<2.3.0,>=1.0.4 in c:\\users\\renato.lopes\\appdata\\local\\programs\\python\\python311\\lib\\site-packages (from dash) (2.2.5)\n",
      "Requirement already satisfied: Werkzeug<2.3.0 in c:\\users\\renato.lopes\\appdata\\local\\programs\\python\\python311\\lib\\site-packages (from dash) (2.2.3)\n",
      "Requirement already satisfied: plotly>=5.0.0 in c:\\users\\renato.lopes\\appdata\\local\\programs\\python\\python311\\lib\\site-packages (from dash) (5.15.0)\n",
      "Requirement already satisfied: dash-html-components==2.0.0 in c:\\users\\renato.lopes\\appdata\\local\\programs\\python\\python311\\lib\\site-packages (from dash) (2.0.0)\n",
      "Requirement already satisfied: dash-core-components==2.0.0 in c:\\users\\renato.lopes\\appdata\\local\\programs\\python\\python311\\lib\\site-packages (from dash) (2.0.0)\n",
      "Requirement already satisfied: dash-table==5.0.0 in c:\\users\\renato.lopes\\appdata\\local\\programs\\python\\python311\\lib\\site-packages (from dash) (5.0.0)\n",
      "Requirement already satisfied: Jinja2>=3.0 in c:\\users\\renato.lopes\\appdata\\local\\programs\\python\\python311\\lib\\site-packages (from Flask<2.3.0,>=1.0.4->dash) (3.1.2)\n",
      "Requirement already satisfied: itsdangerous>=2.0 in c:\\users\\renato.lopes\\appdata\\local\\programs\\python\\python311\\lib\\site-packages (from Flask<2.3.0,>=1.0.4->dash) (2.1.2)\n",
      "Requirement already satisfied: click>=8.0 in c:\\users\\renato.lopes\\appdata\\local\\programs\\python\\python311\\lib\\site-packages (from Flask<2.3.0,>=1.0.4->dash) (8.1.3)\n",
      "Requirement already satisfied: tenacity>=6.2.0 in c:\\users\\renato.lopes\\appdata\\local\\programs\\python\\python311\\lib\\site-packages (from plotly>=5.0.0->dash) (8.2.2)\n",
      "Requirement already satisfied: packaging in c:\\users\\renato.lopes\\appdata\\roaming\\python\\python311\\site-packages (from plotly>=5.0.0->dash) (23.1)\n",
      "Requirement already satisfied: MarkupSafe>=2.1.1 in c:\\users\\renato.lopes\\appdata\\local\\programs\\python\\python311\\lib\\site-packages (from Werkzeug<2.3.0->dash) (2.1.3)\n",
      "Requirement already satisfied: colorama in c:\\users\\renato.lopes\\appdata\\roaming\\python\\python311\\site-packages (from click>=8.0->Flask<2.3.0,>=1.0.4->dash) (0.4.6)\n",
      "Requirement already satisfied: streamlit in c:\\users\\renato.lopes\\appdata\\local\\programs\\python\\python311\\lib\\site-packages (1.25.0)\n",
      "Requirement already satisfied: altair<6,>=4.0 in c:\\users\\renato.lopes\\appdata\\local\\programs\\python\\python311\\lib\\site-packages (from streamlit) (5.0.1)\n",
      "Requirement already satisfied: blinker<2,>=1.0.0 in c:\\users\\renato.lopes\\appdata\\local\\programs\\python\\python311\\lib\\site-packages (from streamlit) (1.6.2)\n",
      "Requirement already satisfied: cachetools<6,>=4.0 in c:\\users\\renato.lopes\\appdata\\local\\programs\\python\\python311\\lib\\site-packages (from streamlit) (5.3.1)\n",
      "Requirement already satisfied: click<9,>=7.0 in c:\\users\\renato.lopes\\appdata\\local\\programs\\python\\python311\\lib\\site-packages (from streamlit) (8.1.3)\n",
      "Requirement already satisfied: importlib-metadata<7,>=1.4 in c:\\users\\renato.lopes\\appdata\\local\\programs\\python\\python311\\lib\\site-packages (from streamlit) (6.8.0)\n",
      "Requirement already satisfied: numpy<2,>=1.19.3 in c:\\users\\renato.lopes\\appdata\\local\\programs\\python\\python311\\lib\\site-packages (from streamlit) (1.24.3)\n",
      "Requirement already satisfied: packaging<24,>=16.8 in c:\\users\\renato.lopes\\appdata\\roaming\\python\\python311\\site-packages (from streamlit) (23.1)\n",
      "Requirement already satisfied: pandas<3,>=1.3.0 in c:\\users\\renato.lopes\\appdata\\local\\programs\\python\\python311\\lib\\site-packages (from streamlit) (2.0.2)\n",
      "Requirement already satisfied: pillow<10,>=7.1.0 in c:\\users\\renato.lopes\\appdata\\local\\programs\\python\\python311\\lib\\site-packages (from streamlit) (9.5.0)\n",
      "Requirement already satisfied: protobuf<5,>=3.20 in c:\\users\\renato.lopes\\appdata\\local\\programs\\python\\python311\\lib\\site-packages (from streamlit) (4.23.4)\n",
      "Requirement already satisfied: pyarrow>=6.0 in c:\\users\\renato.lopes\\appdata\\local\\programs\\python\\python311\\lib\\site-packages (from streamlit) (12.0.1)\n",
      "Requirement already satisfied: pympler<2,>=0.9 in c:\\users\\renato.lopes\\appdata\\local\\programs\\python\\python311\\lib\\site-packages (from streamlit) (1.0.1)\n",
      "Requirement already satisfied: python-dateutil<3,>=2.7.3 in c:\\users\\renato.lopes\\appdata\\roaming\\python\\python311\\site-packages (from streamlit) (2.8.2)\n",
      "Requirement already satisfied: requests<3,>=2.18 in c:\\users\\renato.lopes\\appdata\\local\\programs\\python\\python311\\lib\\site-packages (from streamlit) (2.31.0)\n",
      "Requirement already satisfied: rich<14,>=10.14.0 in c:\\users\\renato.lopes\\appdata\\local\\programs\\python\\python311\\lib\\site-packages (from streamlit) (13.4.2)\n",
      "Requirement already satisfied: tenacity<9,>=8.1.0 in c:\\users\\renato.lopes\\appdata\\local\\programs\\python\\python311\\lib\\site-packages (from streamlit) (8.2.2)\n",
      "Requirement already satisfied: toml<2,>=0.10.1 in c:\\users\\renato.lopes\\appdata\\local\\programs\\python\\python311\\lib\\site-packages (from streamlit) (0.10.2)\n",
      "Requirement already satisfied: typing-extensions<5,>=4.1.0 in c:\\users\\renato.lopes\\appdata\\local\\programs\\python\\python311\\lib\\site-packages (from streamlit) (4.7.1)\n",
      "Requirement already satisfied: tzlocal<5,>=1.1 in c:\\users\\renato.lopes\\appdata\\local\\programs\\python\\python311\\lib\\site-packages (from streamlit) (4.3.1)\n",
      "Requirement already satisfied: validators<1,>=0.2 in c:\\users\\renato.lopes\\appdata\\local\\programs\\python\\python311\\lib\\site-packages (from streamlit) (0.20.0)\n",
      "Requirement already satisfied: gitpython!=3.1.19,<4,>=3.0.7 in c:\\users\\renato.lopes\\appdata\\local\\programs\\python\\python311\\lib\\site-packages (from streamlit) (3.1.32)\n",
      "Requirement already satisfied: pydeck<1,>=0.8 in c:\\users\\renato.lopes\\appdata\\local\\programs\\python\\python311\\lib\\site-packages (from streamlit) (0.8.0)\n",
      "Requirement already satisfied: tornado<7,>=6.0.3 in c:\\users\\renato.lopes\\appdata\\roaming\\python\\python311\\site-packages (from streamlit) (6.3.2)\n",
      "Requirement already satisfied: watchdog>=2.1.5 in c:\\users\\renato.lopes\\appdata\\local\\programs\\python\\python311\\lib\\site-packages (from streamlit) (3.0.0)\n",
      "Requirement already satisfied: jinja2 in c:\\users\\renato.lopes\\appdata\\local\\programs\\python\\python311\\lib\\site-packages (from altair<6,>=4.0->streamlit) (3.1.2)\n",
      "Requirement already satisfied: jsonschema>=3.0 in c:\\users\\renato.lopes\\appdata\\local\\programs\\python\\python311\\lib\\site-packages (from altair<6,>=4.0->streamlit) (4.17.3)\n",
      "Requirement already satisfied: toolz in c:\\users\\renato.lopes\\appdata\\local\\programs\\python\\python311\\lib\\site-packages (from altair<6,>=4.0->streamlit) (0.12.0)\n",
      "Requirement already satisfied: colorama in c:\\users\\renato.lopes\\appdata\\roaming\\python\\python311\\site-packages (from click<9,>=7.0->streamlit) (0.4.6)\n",
      "Requirement already satisfied: gitdb<5,>=4.0.1 in c:\\users\\renato.lopes\\appdata\\local\\programs\\python\\python311\\lib\\site-packages (from gitpython!=3.1.19,<4,>=3.0.7->streamlit) (4.0.10)\n",
      "Requirement already satisfied: zipp>=0.5 in c:\\users\\renato.lopes\\appdata\\local\\programs\\python\\python311\\lib\\site-packages (from importlib-metadata<7,>=1.4->streamlit) (3.16.2)\n",
      "Requirement already satisfied: pytz>=2020.1 in c:\\users\\renato.lopes\\appdata\\local\\programs\\python\\python311\\lib\\site-packages (from pandas<3,>=1.3.0->streamlit) (2023.3)\n",
      "Requirement already satisfied: tzdata>=2022.1 in c:\\users\\renato.lopes\\appdata\\local\\programs\\python\\python311\\lib\\site-packages (from pandas<3,>=1.3.0->streamlit) (2023.3)\n",
      "Requirement already satisfied: six>=1.5 in c:\\users\\renato.lopes\\appdata\\roaming\\python\\python311\\site-packages (from python-dateutil<3,>=2.7.3->streamlit) (1.16.0)\n",
      "Requirement already satisfied: charset-normalizer<4,>=2 in c:\\users\\renato.lopes\\appdata\\local\\programs\\python\\python311\\lib\\site-packages (from requests<3,>=2.18->streamlit) (3.1.0)\n",
      "Requirement already satisfied: idna<4,>=2.5 in c:\\users\\renato.lopes\\appdata\\local\\programs\\python\\python311\\lib\\site-packages (from requests<3,>=2.18->streamlit) (3.4)\n",
      "Requirement already satisfied: urllib3<3,>=1.21.1 in c:\\users\\renato.lopes\\appdata\\local\\programs\\python\\python311\\lib\\site-packages (from requests<3,>=2.18->streamlit) (2.0.3)\n",
      "Requirement already satisfied: certifi>=2017.4.17 in c:\\users\\renato.lopes\\appdata\\local\\programs\\python\\python311\\lib\\site-packages (from requests<3,>=2.18->streamlit) (2023.5.7)\n",
      "Requirement already satisfied: markdown-it-py>=2.2.0 in c:\\users\\renato.lopes\\appdata\\local\\programs\\python\\python311\\lib\\site-packages (from rich<14,>=10.14.0->streamlit) (3.0.0)\n",
      "Requirement already satisfied: pygments<3.0.0,>=2.13.0 in c:\\users\\renato.lopes\\appdata\\roaming\\python\\python311\\site-packages (from rich<14,>=10.14.0->streamlit) (2.15.1)\n",
      "Requirement already satisfied: pytz-deprecation-shim in c:\\users\\renato.lopes\\appdata\\local\\programs\\python\\python311\\lib\\site-packages (from tzlocal<5,>=1.1->streamlit) (0.1.0.post0)\n",
      "Requirement already satisfied: decorator>=3.4.0 in c:\\users\\renato.lopes\\appdata\\roaming\\python\\python311\\site-packages (from validators<1,>=0.2->streamlit) (5.1.1)\n",
      "Requirement already satisfied: smmap<6,>=3.0.1 in c:\\users\\renato.lopes\\appdata\\local\\programs\\python\\python311\\lib\\site-packages (from gitdb<5,>=4.0.1->gitpython!=3.1.19,<4,>=3.0.7->streamlit) (5.0.0)\n",
      "Requirement already satisfied: MarkupSafe>=2.0 in c:\\users\\renato.lopes\\appdata\\local\\programs\\python\\python311\\lib\\site-packages (from jinja2->altair<6,>=4.0->streamlit) (2.1.3)\n",
      "Requirement already satisfied: attrs>=17.4.0 in c:\\users\\renato.lopes\\appdata\\local\\programs\\python\\python311\\lib\\site-packages (from jsonschema>=3.0->altair<6,>=4.0->streamlit) (23.1.0)\n",
      "Requirement already satisfied: pyrsistent!=0.17.0,!=0.17.1,!=0.17.2,>=0.14.0 in c:\\users\\renato.lopes\\appdata\\local\\programs\\python\\python311\\lib\\site-packages (from jsonschema>=3.0->altair<6,>=4.0->streamlit) (0.19.3)\n",
      "Requirement already satisfied: mdurl~=0.1 in c:\\users\\renato.lopes\\appdata\\local\\programs\\python\\python311\\lib\\site-packages (from markdown-it-py>=2.2.0->rich<14,>=10.14.0->streamlit) (0.1.2)\n",
      "Requirement already satisfied: datetime in c:\\users\\renato.lopes\\appdata\\local\\programs\\python\\python311\\lib\\site-packages (5.1)\n",
      "Requirement already satisfied: zope.interface in c:\\users\\renato.lopes\\appdata\\local\\programs\\python\\python311\\lib\\site-packages (from datetime) (6.0)\n",
      "Requirement already satisfied: pytz in c:\\users\\renato.lopes\\appdata\\local\\programs\\python\\python311\\lib\\site-packages (from datetime) (2023.3)\n",
      "Requirement already satisfied: setuptools in c:\\users\\renato.lopes\\appdata\\local\\programs\\python\\python311\\lib\\site-packages (from zope.interface->datetime) (65.5.0)\n",
      "Requirement already satisfied: openpyxl in c:\\users\\renato.lopes\\appdata\\local\\programs\\python\\python311\\lib\\site-packages (3.1.2)\n",
      "Requirement already satisfied: et-xmlfile in c:\\users\\renato.lopes\\appdata\\local\\programs\\python\\python311\\lib\\site-packages (from openpyxl) (1.1.0)\n",
      "Requirement already satisfied: geojson in c:\\users\\renato.lopes\\appdata\\local\\programs\\python\\python311\\lib\\site-packages (3.0.1)\n",
      "Requirement already satisfied: requests in c:\\users\\renato.lopes\\appdata\\local\\programs\\python\\python311\\lib\\site-packages (2.31.0)\n",
      "Requirement already satisfied: charset-normalizer<4,>=2 in c:\\users\\renato.lopes\\appdata\\local\\programs\\python\\python311\\lib\\site-packages (from requests) (3.1.0)\n",
      "Requirement already satisfied: idna<4,>=2.5 in c:\\users\\renato.lopes\\appdata\\local\\programs\\python\\python311\\lib\\site-packages (from requests) (3.4)\n",
      "Requirement already satisfied: urllib3<3,>=1.21.1 in c:\\users\\renato.lopes\\appdata\\local\\programs\\python\\python311\\lib\\site-packages (from requests) (2.0.3)\n",
      "Requirement already satisfied: certifi>=2017.4.17 in c:\\users\\renato.lopes\\appdata\\local\\programs\\python\\python311\\lib\\site-packages (from requests) (2023.5.7)\n",
      "Requirement already satisfied: lxml in c:\\users\\renato.lopes\\appdata\\local\\programs\\python\\python311\\lib\\site-packages (4.9.2)\n"
     ]
    }
   ],
   "source": [
    "\n",
    " #python -m pip install caso já tenha sido executado o import Sys\n",
    " \n",
    "\n",
    "# para montagem de dashboards (dash e stremlit)\n",
    "\n",
    "!pip install dash \n",
    "\n",
    "!pip install streamlit \n",
    "    \n",
    "!pip install datetime\n",
    "\n",
    "!pip install openpyxl\n",
    "\n",
    "!pip install geojson \n",
    "\n",
    "# Para leitura de arquivos da nuvem html\n",
    "\n",
    "!pip install requests \n",
    "\n",
    "#Para leitura de xml\n",
    "\n",
    "!pip install lxml "
   ]
  },
  {
   "attachments": {},
   "cell_type": "markdown",
   "id": "28cdcf17",
   "metadata": {},
   "source": [
    "## Importando Módulos\n",
    "\n",
    "\n",
    "\n",
    "Módulos são implementados como arquivos `.py`.\n",
    "\n",
    "Para adicionar um módulo, basta usar o comando `import` seguido no nome do módulo.\n",
    "\n",
    "Também é possível adicionar apelidos aos módulos:\n",
    "\n",
    "```python\n",
    "import modulo as apelido\n",
    "```"
   ]
  },
  {
   "cell_type": "code",
   "execution_count": 40,
   "id": "a5f443a1",
   "metadata": {},
   "outputs": [
    {
     "data": {
      "text/plain": [
       "10"
      ]
     },
     "execution_count": 40,
     "metadata": {},
     "output_type": "execute_result"
    }
   ],
   "source": [
    "# importar módulo matemático do Python\n",
    "#import math as m\n",
    "import math\n",
    "\n",
    "math.factorial(10)\n",
    "# potenciação\n",
    "\n",
    "\n",
    "# arredondamento para cima\n",
    "math.ceil(10.3)\n",
    "\n",
    "# arredondamento para baixo\n",
    "math.floor(10.9)\n",
    "\n",
    "math.trunc(10.9)\n",
    "\n"
   ]
  },
  {
   "attachments": {},
   "cell_type": "markdown",
   "id": "b18adb7c",
   "metadata": {},
   "source": [
    "Bibliotecas padrão para analise de dados"
   ]
  },
  {
   "cell_type": "code",
   "execution_count": 41,
   "id": "28192895",
   "metadata": {},
   "outputs": [],
   "source": [
    "import pandas as pd\n",
    "import numpy as np"
   ]
  },
  {
   "attachments": {},
   "cell_type": "markdown",
   "id": "921354f2",
   "metadata": {},
   "source": [
    "Bibliotecas adicionais para visualização de dados"
   ]
  },
  {
   "cell_type": "code",
   "execution_count": 42,
   "id": "7494f846",
   "metadata": {},
   "outputs": [
    {
     "name": "stderr",
     "output_type": "stream",
     "text": [
      "C:\\Users\\renato.lopes\\AppData\\Local\\Temp\\ipykernel_11300\\2567529069.py:5: UserWarning: \n",
      "The dash_core_components package is deprecated. Please replace\n",
      "`import dash_core_components as dcc` with `from dash import dcc`\n",
      "  import dash_core_components as dcc\n",
      "C:\\Users\\renato.lopes\\AppData\\Local\\Temp\\ipykernel_11300\\2567529069.py:6: UserWarning: \n",
      "The dash_html_components package is deprecated. Please replace\n",
      "`import dash_html_components as html` with `from dash import html`\n",
      "  import dash_html_components as html\n"
     ]
    }
   ],
   "source": [
    "import matplotlib.pyplot as plt\n",
    "%matplotlib inline\n",
    "import seaborn as sns\n",
    "import dash\n",
    "import dash_core_components as dcc\n",
    "import dash_html_components as html"
   ]
  },
  {
   "attachments": {},
   "cell_type": "markdown",
   "id": "0a90aa46",
   "metadata": {},
   "source": [
    "Bibliotecas para apredizado supervisionado e não supervisionado"
   ]
  },
  {
   "cell_type": "code",
   "execution_count": 43,
   "id": "336d1d2d",
   "metadata": {},
   "outputs": [],
   "source": [
    "from sklearn import preprocessing\n",
    "from sklearn.preprocessing import StandardScaler\n",
    "from sklearn.model_selection import train_test_split"
   ]
  },
  {
   "attachments": {},
   "cell_type": "markdown",
   "id": "7a5f7820",
   "metadata": {},
   "source": [
    "## Módulos embutidos\n",
    "\n",
    "Em Python existem uma variedades de módulos embutidos (aqueles que são distribuídos junto a linguagem e não requerem instalação adicional). Para descobrir quais são as funções que um determinado módulo tem, é possível usar o método `dir()`.\n",
    "\n",
    "Para entender melhor como uma determinada função funciona, é possível usar o métido `help()`"
   ]
  },
  {
   "cell_type": "code",
   "execution_count": 44,
   "id": "ce166e94",
   "metadata": {},
   "outputs": [
    {
     "name": "stdout",
     "output_type": "stream",
     "text": [
      "The Zen of Python, by Tim Peters\n",
      "\n",
      "Beautiful is better than ugly.\n",
      "Explicit is better than implicit.\n",
      "Simple is better than complex.\n",
      "Complex is better than complicated.\n",
      "Flat is better than nested.\n",
      "Sparse is better than dense.\n",
      "Readability counts.\n",
      "Special cases aren't special enough to break the rules.\n",
      "Although practicality beats purity.\n",
      "Errors should never pass silently.\n",
      "Unless explicitly silenced.\n",
      "In the face of ambiguity, refuse the temptation to guess.\n",
      "There should be one-- and preferably only one --obvious way to do it.\n",
      "Although that way may not be obvious at first unless you're Dutch.\n",
      "Now is better than never.\n",
      "Although never is often better than *right* now.\n",
      "If the implementation is hard to explain, it's a bad idea.\n",
      "If the implementation is easy to explain, it may be a good idea.\n",
      "Namespaces are one honking great idea -- let's do more of those!\n",
      "Help on built-in function trunc in module math:\n",
      "\n",
      "trunc(x, /)\n",
      "    Truncates the Real x to the nearest Integral toward 0.\n",
      "    \n",
      "    Uses the __trunc__ magic method.\n",
      "\n"
     ]
    }
   ],
   "source": [
    "import this #mostra o zen phyton\n",
    "# importando o mólulo math\n",
    "import math\n",
    "\n",
    "# exibir as funções do módulo matemático\n",
    "#print(dir(math))\n",
    "#print(math.pi)\n",
    "\n",
    "# exibir a documentação da função trunc()\n",
    "help(math.trunc)"
   ]
  },
  {
   "attachments": {},
   "cell_type": "markdown",
   "id": "8a3e12ac",
   "metadata": {},
   "source": [
    "## Escrevendo e usando módulos\n",
    "\n",
    "Basta criar um arquivo `.py` com o nome do módulo e importa-lo usando esse nome (sem o `.py`)"
   ]
  },
  {
   "attachments": {},
   "cell_type": "markdown",
   "id": "e3fb3900",
   "metadata": {},
   "source": [
    "``` python\n",
    "\n",
    "# Fibonacci numbers module\n",
    "\n",
    "def fib(n):    # write Fibonacci series up to n\n",
    "    a, b = 0, 1\n",
    "    while a < n:\n",
    "        print(a, end=' ')\n",
    "        a, b = b, a+b\n",
    "    print()\n",
    "\n",
    "def fib2(n):   # return Fibonacci series up to n\n",
    "    result = []\n",
    "    a, b = 0, 1\n",
    "    while a < n:\n",
    "        result.append(a)\n",
    "        a, b = b, a+b\n",
    "    return result\n",
    "\n",
    "```"
   ]
  },
  {
   "cell_type": "code",
   "execution_count": 45,
   "id": "75505b7a",
   "metadata": {},
   "outputs": [
    {
     "name": "stdout",
     "output_type": "stream",
     "text": [
      "0 1 1 2 3 5 8 13 21 34 55 89 144 233 377 610 987 \n"
     ]
    }
   ],
   "source": [
    "import fibo\n",
    "\n",
    "fibo.fib(1000)"
   ]
  },
  {
   "attachments": {},
   "cell_type": "markdown",
   "id": "d064ace9",
   "metadata": {},
   "source": [
    "## Criando pacotes\n",
    "\n",
    "Pacotes são espaços compostos por vários módulos. São como uma pasta no computador que tem arquivos relacionados a um mesmo assunto.\n",
    "\n",
    "Por exemplo, podemos imaginar um pacote chamado **matemática** que conteria vário módulos, tais como: *calculadora*, *geometria*, *probabilidade*...\n",
    "\n",
    "Para uma pasta ser considerada como pacote, em Pyhton, é necessário que haja um arquivo `__init__.py` dentro dele."
   ]
  },
  {
   "attachments": {},
   "cell_type": "markdown",
   "id": "5e229d19",
   "metadata": {},
   "source": [
    "## Importando módulos de pacotes\n",
    "\n",
    "É possível usar os seguintes comandos:\n",
    "- `import`\n",
    "- `from`\n",
    "\n",
    "Também é possível adicionar apelidos aos módulos:\n",
    "\n",
    "```python\n",
    "from modulo import funcao as apelido\n",
    "from pacote import modulo as apelido\n",
    "```"
   ]
  },
  {
   "attachments": {},
   "cell_type": "markdown",
   "id": "ebe217e3",
   "metadata": {},
   "source": [
    "___\n",
    "\n",
    "# Virtual enviroments \n",
    "\n",
    "Para trabalhar com dashboards interativas com python, seja com a biblioteca Dash ou Streamlit é uma boa pratica utilizar um ambiente virtual\n",
    "\n",
    "\n",
    "\n",
    "\n",
    "https://realpython.com/python-virtual-environments-a-primer/\n",
    "\n",
    "https://realpython.com/what-is-pip/\n"
   ]
  },
  {
   "attachments": {},
   "cell_type": "markdown",
   "id": "524e8121",
   "metadata": {},
   "source": [
    "## Comando basicos Power Shell"
   ]
  },
  {
   "attachments": {},
   "cell_type": "markdown",
   "id": "38a9a07b",
   "metadata": {},
   "source": [
    "### Subir um diretorio\n",
    "\n",
    "<a id='venv'></a>"
   ]
  },
  {
   "attachments": {},
   "cell_type": "markdown",
   "id": "411b963b",
   "metadata": {},
   "source": [
    "\n",
    "\n",
    "> <span style=\"color:#0074D9\"> Windows PowerShell </span>\n",
    "> \n",
    "> <span style=\"color:#bfb526\"> PS> </span> \n",
    ">  C:\\diretorioA\\SubdiretoriodeA> <span style=\"color:#bfb526\"> cd </span> ..\n",
    "\n",
    "retorna \n",
    "\n",
    "> <span style=\"color:#0074D9\"> Windows PowerShell </span>\n",
    "> \n",
    "> <span style=\"color:#bfb526\"> PS> </span> \n",
    ">  C:\\diretorioA>\n",
    "\n"
   ]
  },
  {
   "attachments": {},
   "cell_type": "markdown",
   "id": "844e3bce",
   "metadata": {},
   "source": [
    "### Descer um diretorio"
   ]
  },
  {
   "attachments": {},
   "cell_type": "markdown",
   "id": "1d59bfb7",
   "metadata": {},
   "source": [
    "\n",
    "\n",
    "> <span style=\"color:#0074D9\"> Windows PowerShell </span>\n",
    "> \n",
    "> <span style=\"color:#bfb526\"> PS> </span> \n",
    ">  C:\\diretorioA> <span style=\"color:#bfb526\"> cd</span> .\\SubdiretoriodeA\n",
    "\n",
    "retorna \n",
    "\n",
    "> <span style=\"color:#0074D9\"> Windows PowerShell </span>\n",
    "> \n",
    "> <span style=\"color:#bfb526\"> PS> </span> \n",
    ">  C:\\diretorioA\\SubdiretoriodeA>"
   ]
  },
  {
   "attachments": {},
   "cell_type": "markdown",
   "id": "1f31945d",
   "metadata": {},
   "source": [
    "## Criando o virtual enviroment"
   ]
  },
  {
   "attachments": {},
   "cell_type": "markdown",
   "id": "d27415ee",
   "metadata": {},
   "source": [
    "Abra o terminal de comando diretamente no windows ou no VS code, pelo windows provavelmente será necessario ajustar o caminho do diretorio, pelo VS é so clicar direto no diretorio e abrir o terminal\n",
    "\n",
    "\n",
    "> <span style=\"color:#0074D9\"> Windows PowerShell </span>\n",
    "> \n",
    "> <span style=\"color:#bfb526\"> PS> </span> \n",
    "> C:\\DiretorioEscolhido> python -m venv venv\n",
    "\n",
    "se der certo será criado uma pasta venv dentro do DiterorioEscolhido\n"
   ]
  },
  {
   "attachments": {},
   "cell_type": "markdown",
   "id": "e4f52ca4",
   "metadata": {},
   "source": [
    "## Ativando o virtual enviroment"
   ]
  },
  {
   "attachments": {},
   "cell_type": "markdown",
   "id": "2d5978b7",
   "metadata": {},
   "source": [
    "Execute os comandos abaixo no terminal\n",
    "\n",
    "\n",
    "> <span style=\"color:#0074D9\"> Windows PowerShell </span>\n",
    "> \n",
    "> <span style=\"color:#bfb526\"> PS> </span> \n",
    "> C:\\DiretorioEscolhido> venv\\Scripts\\activate\n",
    "\n",
    "se der certo será retorna\n",
    "\n",
    "> <span style=\"color:#0074D9\"> Windows PowerShell </span>\n",
    "> \n",
    "> <span style=\"color:#bfb526\"> (venv) PS> </span>\n",
    "> C:\\DiretorioEscolhido> \n"
   ]
  },
  {
   "attachments": {},
   "cell_type": "markdown",
   "id": "590cea46",
   "metadata": {},
   "source": [
    "## Desativando o virtual enviroment"
   ]
  },
  {
   "attachments": {},
   "cell_type": "markdown",
   "id": "3f793236",
   "metadata": {},
   "source": [
    "Execute os comandos abaixo no terminal\n",
    "\n",
    "\n",
    "> <span style=\"color:#0074D9\"> Windows PowerShell </span>\n",
    "> \n",
    "> <span style=\"color:#bfb526\"> (venv) PS> </span>\n",
    "> C:\\DiretorioEscolhido>  <span style=\"color:#bfb526\"> deactivate </span>\n",
    "\n",
    "se der certo será retorna\n",
    "\n",
    "> <span style=\"color:#0074D9\"> Windows PowerShell </span>\n",
    "> \n",
    "> <span style=\"color:#bfb526\">PS> </span>\n",
    "> C:\\DiretorioEscolhido> \n"
   ]
  },
  {
   "attachments": {},
   "cell_type": "markdown",
   "id": "f99c16ab",
   "metadata": {},
   "source": [
    "## Instalando os modulos no virtual enviroment"
   ]
  },
  {
   "attachments": {},
   "cell_type": "markdown",
   "id": "c277a85d",
   "metadata": {},
   "source": [
    "1. Para gerar as dependencias\n",
    "\n",
    "Caso se queira na verdade criar um arquivo requirements para compartilhar com outros usuarios utilize o comando abaixo\n",
    "\n",
    "> <span style=\"color:#0074D9\"> Windows PowerShell </span>\n",
    "> \n",
    "> <span style=\"color:#bfb526\"> (venv) PS> </span>\n",
    "> C:\\DiretorioEscolhido>  python -m pip freeze > requirements.txt"
   ]
  },
  {
   "attachments": {},
   "cell_type": "markdown",
   "id": "09a3d896",
   "metadata": {},
   "source": [
    "2. Para instalar as dependencias\n",
    "\n",
    "Execute os comandos abaixo no terminal para instalar no virtual enviroment criado os requerimentos dos modulos e suas versões previamente criado\n",
    "\n",
    "\n",
    "> <span style=\"color:#0074D9\"> Windows PowerShell </span>\n",
    "> \n",
    "> <span style=\"color:#bfb526\"> (venv) PS> </span>\n",
    "> C:\\DiretorioEscolhido>  <span style=\"color:#bfb526\"> pip </span> install - r requirements.txt"
   ]
  },
  {
   "attachments": {},
   "cell_type": "markdown",
   "id": "be22da7b",
   "metadata": {},
   "source": [
    "___\n",
    "\n",
    "# Arquivos\n",
    "\n",
    "Python simplifica o acesso a arquivos de texto com um tipo e estruturas nativas para leitura e escrita.\n",
    "\n",
    "De forma geral, podemos dizer que existem dois tipos de arquivo:\n",
    "- Arquivos de texto (`.txt`, `.py`, `.html`, `.md`, `.csv`, `.xml`)\n",
    "- Arquivos binários (`.docx`, `.xlsx`, `.pdf`, `.jpeg`, `.mp3`)\n",
    "\n"
   ]
  },
  {
   "attachments": {},
   "cell_type": "markdown",
   "id": "f488609e",
   "metadata": {},
   "source": [
    "## Criando um arquivo\n",
    "\n",
    "Existe mais de uma forma de criar um arquivo em Python. Uma dessas opções é usando o comando `%%writefile`."
   ]
  },
  {
   "cell_type": "code",
   "execution_count": 46,
   "id": "a118379f",
   "metadata": {},
   "outputs": [
    {
     "name": "stdout",
     "output_type": "stream",
     "text": [
      "Overwriting exemplo1.txt\n"
     ]
    }
   ],
   "source": [
    "%%writefile exemplo1.txt\n",
    "Esse é um exemplo de arquivo de texto\n",
    "------\n",
    "\n",
    "Esse exemplo é até legal, mas tem formas melhores de fazer isso"
   ]
  },
  {
   "attachments": {},
   "cell_type": "markdown",
   "id": "c1a390f1",
   "metadata": {},
   "source": [
    "## Abrindo um arquivo txt e modo de abertura\n",
    "\n",
    "Podemos usar a função open() para abrir um arquivo:\n",
    "\n",
    "```python\n",
    "arquivo = open('nomedoarquivo.txt')\n",
    "```\n",
    "\n",
    "Por padrão, os arquivos são abertos no modo de leitura, mas existem vários outros modos possíveis:\n",
    "\n",
    "|   Modo  | Descrição |\n",
    "|---------|-----------|\n",
    "| **'r'** |  **Read** |\n",
    "|   'a'   |   Append  |\n",
    "|   'w'   |   Write   |\n",
    "|   'x'   |   Create  |\n",
    "|    -    |     -     |\n",
    "| **'t'** | **Texto** |\n",
    "|   'b'   |  Binário  |\n",
    "|   '+'   |  Update   |\n",
    "\n",
    "\n",
    "O modo pode ser definido como um segundo parâmetro à função `open()`:\n",
    "\n",
    "```python\n",
    "arquivo = open('nomedoarquivo.txt', 'a')\n",
    "print(arquivo.read())\n",
    "```\n",
    "\n",
    "https://docs.python.org/3/library/functions.html#open"
   ]
  },
  {
   "cell_type": "code",
   "execution_count": 47,
   "id": "f7872d9f",
   "metadata": {},
   "outputs": [
    {
     "name": "stdout",
     "output_type": "stream",
     "text": [
      "<_io.TextIOWrapper name='exemplo1.txt' mode='r' encoding='utf8'>\n",
      "Esse é um exemplo de arquivo de texto\n",
      "------\n",
      "\n",
      "Esse exemplo é até legal, mas tem formas melhores de fazer isso\n",
      "\n"
     ]
    }
   ],
   "source": [
    "arq=open('exemplo1.txt',encoding=\"utf8\")\n",
    "print(arq)\n",
    "print(arq.read())"
   ]
  },
  {
   "attachments": {},
   "cell_type": "markdown",
   "id": "4be5194a",
   "metadata": {},
   "source": [
    "## Leitura\n",
    "\n",
    "```python\n",
    "arquivo.read()\n",
    "arquivo.seek(0)\n",
    "arquivo.readline()\n",
    "```\n",
    "\n",
    "```python\n",
    "arquivo = open('nomedoarquivo.txt', 'r')\n",
    "for linha in arquivo:\n",
    "  print(linha)\n",
    "```"
   ]
  },
  {
   "attachments": {},
   "cell_type": "markdown",
   "id": "208d60bd",
   "metadata": {},
   "source": [
    "## Escrita\n",
    "\n",
    "Para ler um arquivo, é necessário usar como modo `w`, `r+` ou `a`:\n",
    "```python\n",
    "arquivo = open('nomearquivo.txt', 'w')\n",
    "arquivo.write('Capitã Marvel, Marvel')\n",
    "```\n",
    "\n",
    "```python\n",
    "arquivo = open('nomearquivo.txt', 'a')\n",
    "arquivo.write('\\nBatman, DC')\n",
    "arquivo.write('\\nHulk, Marvel')\n",
    "```"
   ]
  },
  {
   "cell_type": "code",
   "execution_count": 48,
   "id": "363e7933",
   "metadata": {},
   "outputs": [],
   "source": [
    "arquivo=open('nomearquivo.txt','w')\n",
    "arquivo.write('Capitâ Marvel,Marvel')\n",
    "arquivo.close()"
   ]
  },
  {
   "cell_type": "code",
   "execution_count": 49,
   "id": "8764290f",
   "metadata": {},
   "outputs": [],
   "source": [
    "arquivo=open('nomearquivo.txt','a')\n",
    "arquivo.write('\\nBatman, DC')\n",
    "arquivo.write('\\nHulk, Marvel')\n",
    "arquivo.close()"
   ]
  },
  {
   "attachments": {},
   "cell_type": "markdown",
   "id": "f5a16625",
   "metadata": {},
   "source": [
    "## Fechamento do arquivo\n",
    "\n",
    "> Se abriu, fecha; a não ser que o Python feche sozinho.\n",
    "\n",
    "`arquivo.close()`"
   ]
  },
  {
   "attachments": {},
   "cell_type": "markdown",
   "id": "ad524fc5",
   "metadata": {},
   "source": [
    "## Comando `With`\n",
    "\n",
    "Usado para realizar a leitura \n",
    "\n",
    "Principais vantagens:\n",
    "- Sintaxe mais limpa para a leitura de arquivos;\n",
    "- Abre e fecha o arquivo automaticamente;\n",
    "- Delimita de forma clara o escopo onde o arquivo é acessível.\n",
    "\n",
    "```python\n",
    "with open('arquivo.txt') as arquivo:\n",
    "  print(arquivo.readline())\n",
    "  print(arquivo.readline())\n",
    "```\n"
   ]
  },
  {
   "attachments": {},
   "cell_type": "markdown",
   "id": "907fc429",
   "metadata": {},
   "source": [
    "## Manipulando arquivos e pastas\n",
    "\n",
    "Apesar de ser possível criar um arquivo usando o método `open()`, excluir um arquivo ou criar/excluir uma pasta só é possível usando o módulo `os`."
   ]
  },
  {
   "cell_type": "code",
   "execution_count": 50,
   "id": "193b3057",
   "metadata": {},
   "outputs": [
    {
     "data": {
      "text/plain": [
       "True"
      ]
     },
     "execution_count": 50,
     "metadata": {},
     "output_type": "execute_result"
    }
   ],
   "source": [
    "# importando o mólulo os\n",
    "import os\n",
    "\n",
    "# removendo um arquivo\n",
    "'''os.remove('exemplo1.txt')\n",
    "'''\n",
    "# verificando se um arquivo existe\n",
    "os.path.exists('notas.txt')\n",
    "\n",
    "# removendo uma pasta\n",
    "#os.rmdir() #remove se a pasta não tiver arquivos dentro\n",
    "#os.rmtree() #remove a pasta e tudo que tiver dentro"
   ]
  },
  {
   "attachments": {},
   "cell_type": "markdown",
   "id": "b23e32e6",
   "metadata": {},
   "source": [
    "## Exercício 3\n",
    "\n",
    "Crie um programa que registra as notas de uma pessoa na escola (como o boletim) em um arquivo. Em seguida, leia todos os valores para exibir a **menor**, a **maior** e a **média** das notas.\n",
    "\n",
    "Dica: Se você usar listas, pode usar as funções `min()`, `max()` e `sum()`."
   ]
  },
  {
   "cell_type": "code",
   "execution_count": 51,
   "id": "38d15577",
   "metadata": {},
   "outputs": [],
   "source": [
    "#armazenar 4 notas informadas pelo usuario em um arquivo\n",
    "arq_notas=open('notas.txt','w')\n",
    "grade=input(f'Digite nota 1')\n",
    "arq_notas.write(str(grade)+'\\n')\n",
    "#arq_notas.write('\\n')\n",
    "grade=input(f'Digite nota 2')\n",
    "arq_notas.write(str(grade))\n",
    "arq_notas.write('\\n')\n",
    "grade=input(f'Digite nota 3')\n",
    "arq_notas.write(str(grade))\n",
    "arq_notas.write('\\n')\n",
    "grade=input(f'Digite nota 4')\n",
    "arq_notas.write(str(grade))\n",
    "arquivo.close()\n",
    "\n",
    "# ler as 4 notas e informar: a menor, a maior e a média"
   ]
  },
  {
   "cell_type": "code",
   "execution_count": 52,
   "id": "a00fcd62",
   "metadata": {},
   "outputs": [
    {
     "name": "stdout",
     "output_type": "stream",
     "text": [
      "A menor nota é 4\n",
      "A maior nota é 9\n",
      "A média é 6.5\n"
     ]
    }
   ],
   "source": [
    "#Codido do professor\n",
    "# armazenar 4 notas informadas pelo usuário em um arquivo\n",
    "def salvaNotas(arquivo):\n",
    "  with open(arquivo, 'w') as arq:\n",
    "    for _ in range(4):\n",
    "      nota = input('Insira a nota: ')\n",
    "      arq.write(f'{nota}\\n')\n",
    "\n",
    "# ler as 4 notas e informar: a menor, a maior e a média\n",
    "def lerNotas(arquivo):\n",
    "  notas = []\n",
    "  with open(arquivo) as arq:\n",
    "    for linha in arq:\n",
    "      notas.append(int(linha))\n",
    "  print((f'A menor nota é {min(notas)}'))\n",
    "  print((f'A maior nota é {max(notas)}'))\n",
    "  print((f'A média é {sum(notas)/len(notas)}'))\n",
    "\n",
    "\n",
    "salvaNotas('notas.txt')\n",
    "lerNotas('notas.txt')"
   ]
  },
  {
   "attachments": {},
   "cell_type": "markdown",
   "id": "12a6ae6f",
   "metadata": {},
   "source": [
    "____\n",
    "\n",
    "\n",
    "# Codigo para uso de arquivos no colab\n",
    "\n",
    "from google.colab import drive\n",
    "\n",
    "drive.mount('/content/drive')"
   ]
  },
  {
   "attachments": {},
   "cell_type": "markdown",
   "id": "1371652c",
   "metadata": {},
   "source": [
    "[Exercício 2: Experiências](https://www.urionlinejudge.com.br/judge/pt/problems/view/1094)"
   ]
  },
  {
   "attachments": {},
   "cell_type": "markdown",
   "id": "a7df4f4a",
   "metadata": {},
   "source": [
    "\n",
    "____\n",
    "\n",
    "# OO\n",
    "\n",
    "Em Python, implementamos classes usando o comando `class`.\n",
    "\n",
    "```python\n",
    "class Pessoa():\n",
    "```\n",
    "\n"
   ]
  },
  {
   "attachments": {},
   "cell_type": "markdown",
   "id": "7fc34fcb",
   "metadata": {},
   "source": [
    "\n",
    "\n",
    "## Atributos\n",
    "\n",
    "Representa as características próprias do objeto representado pela classe.\n",
    "\n",
    "```python\n",
    "class Casa():\n",
    "  rua = 'Avenida da Saudade'\n",
    "  bairro = 'Guadalupe'\n",
    "  cep = '53240440'\n",
    "```\n",
    "\n",
    "## Métodos\n",
    "\n",
    "São definidos dentro da classe. Deve receber, obrigatóriamente, um primeiro parâmentro que serve como referência a instância da própria classe: `self`.\n",
    "\n",
    "## Objetos\n",
    "\n",
    "Instanciação da classe"
   ]
  },
  {
   "cell_type": "code",
   "execution_count": 53,
   "id": "8a87f873",
   "metadata": {},
   "outputs": [
    {
     "name": "stdout",
     "output_type": "stream",
     "text": [
      "<class '__main__.Pessoa'>\n",
      "Renato\n",
      "Recife\n"
     ]
    }
   ],
   "source": [
    "class Pessoa():\n",
    "  nome='Renato'\n",
    "  endereco='Recife'\n",
    "  pass\n",
    "\n",
    "p=Pessoa()\n",
    "print(type(p))\n",
    "print(p.nome)\n",
    "print(p.endereco)"
   ]
  },
  {
   "attachments": {},
   "cell_type": "markdown",
   "id": "d94eb708",
   "metadata": {},
   "source": [
    "## Método Inicializador\n",
    "\n",
    "`__init__()`\n",
    "\n",
    "Funciona como uma espécie de construtor. Sempre que uma classe é instanciada, o método `__init__()` é executado."
   ]
  },
  {
   "cell_type": "code",
   "execution_count": 54,
   "id": "67edc118",
   "metadata": {},
   "outputs": [
    {
     "name": "stdout",
     "output_type": "stream",
     "text": [
      "Victor\n",
      "18\n",
      "2 série\n",
      "VICTOR\n",
      "Fernando\n",
      "28\n",
      "2 série\n"
     ]
    }
   ],
   "source": [
    "class Estudante():\n",
    "  def __init__(self,nome,idade,serie):\n",
    "    self.nome=nome\n",
    "    self.idd=idade\n",
    "    self.serie=serie\n",
    "\n",
    "  def gritar_nome(self):\n",
    "    print(self.nome.upper()) \n",
    "\n",
    "e=Estudante('Victor',18, '2 série')\n",
    "f=Estudante('Fernando',28, '2 série')\n",
    "print(e.nome)\n",
    "print(e.idd)\n",
    "print(e.serie)\n",
    "e.gritar_nome()\n",
    "e.pai='Seu joão'\n",
    "\n",
    "print(f.nome)\n",
    "print(f.idd)\n",
    "print(f.serie)"
   ]
  },
  {
   "attachments": {},
   "cell_type": "markdown",
   "id": "d40a5386",
   "metadata": {},
   "source": [
    "## Atributos e Métodos Privados:\n",
    " - Use um duplo underline `__` na frente do nome do elemento que você quer tornar privado;\n",
    "\n",
    " https://www.bogotobogo.com/python/python_private_attributes_methods.php\n",
    "\n",
    "## Métodos Especiais\n",
    "\n",
    "- `def __str__(self):`\n",
    "- `def __len__(self):`\n",
    "- `def __del__(self):`"
   ]
  },
  {
   "attachments": {},
   "cell_type": "markdown",
   "id": "c34e3a48",
   "metadata": {},
   "source": [
    "## Herança\n",
    "\n",
    "Para definir uma herança em Python  precisamos definir uma classe base com seus atributos e métodos. Em seguida, definimos uma classe derivada que herdará suas características:\n",
    "\n",
    "```python\n",
    "class Animal():\n",
    "  n_patas = 0\n",
    "  penas = True\n",
    "  \n",
    "  def o_que_sou(self):\n",
    "    print('Animal')\n",
    "  \n",
    "  def comer(self):\n",
    "    print('Comendo...')\n",
    "\n",
    "class Cachorro(Animal):\n",
    "  tamanho_rabo = 0\n",
    "\n",
    "  def __init__(self, tamanho_rabo, n_patas):\n",
    "    Animal.penas = False\n",
    "    self.tamanho_rabo = tamanho_rabo\n",
    "    Animal.n_patas = n_patas\n",
    "  \n",
    "  def o_que_sou(self):\n",
    "    print('Cachorro')\n",
    "  \n",
    "  def late(self):\n",
    "    print('Auau!')\n",
    "```\n"
   ]
  },
  {
   "attachments": {},
   "cell_type": "markdown",
   "id": "96ec55ea",
   "metadata": {},
   "source": [
    "## Herança Múltipla\n",
    "\n",
    "Em Pyhton é possível que uma única classe herde de várias outras:\n",
    "\n",
    "```python\n",
    "class AnimalSelvagem():\n",
    "  def mover(self):\n",
    "    print('estou correndo')\n",
    "  \n",
    "  def come(self):\n",
    "    print('comendo...')\n",
    "\n",
    "class AnimalDomestico():\n",
    "  def mover(self):\n",
    "    print('estou andando')\n",
    "  \n",
    "  def getDono(self):\n",
    "    return self.dono\n",
    "\n",
    "class Cachorro(AnimalSelvagem, AnimalDomestico):\n",
    "  def __init__(self, dono):\n",
    "    self.dono = dono\n",
    "  \n",
    "  def late(self):\n",
    "    print('Auau!')\n",
    "```\n"
   ]
  },
  {
   "attachments": {},
   "cell_type": "markdown",
   "id": "281a524a",
   "metadata": {},
   "source": [
    "## Polimorfismo\n",
    "\n",
    "Esse pilar de O.O. diz respeito a capacidade dos objetos filhos se comporatem como seus pais.\n",
    "\n",
    "```python\n",
    "class Eletrodomestico():\n",
    "  def Ligar(self):\n",
    "    print('ligando')\n",
    " \n",
    "class TV(Eletrodomestico):\n",
    "  def Ligar(self):\n",
    "    print('Sincronicar canais')\n",
    "    Eletrodomestico.Ligar(self)\n",
    " \n",
    "class Geladeira(Eletrodomestico):\n",
    "  def Ligar(self):\n",
    "    print('Aguardar carregar os capacitores')\n",
    "    print('Iniciar motor')\n",
    "    print('Acender luz interna')\n",
    "\n",
    "class Microondas(Eletrodomestico):\n",
    "  pass\n",
    "\n",
    "def LigarDispositivo(eletro):\n",
    "  eletro.Ligar()\n",
    "```"
   ]
  },
  {
   "attachments": {},
   "cell_type": "markdown",
   "id": "93353173",
   "metadata": {},
   "source": [
    "____\n",
    "\n",
    "\n",
    "# Exceções\n",
    "\n",
    "> \"Se existe alguma chance de dar errado, dará\"\n",
    ">\n",
    "> _Edward Murphy_ (1960)\n",
    "\n",
    "## Erros e Exceções\n",
    "\n",
    "```python\n",
    "print('Olá Mundo!)\n",
    "```\n",
    "\n",
    "Na saída do console apareceu um `\"SyntaxError\"`, com a descrição adicional de que era um **EOL** (*End of Line Error*).\n",
    "\n",
    "Os erros detectados pelo programa durante a execução do código são chamados de **exceções**.\n",
    "\n",
    "Além dos erros de **sintaxe**, que ocorre quando escrevemos algo errado, também existem erros **semânticos**, que ocorrem quando a lógica é quebrada.\n",
    "\n",
    "Um exemplo clássico de erro semântico é a divisão por zero:"
   ]
  },
  {
   "attachments": {},
   "cell_type": "markdown",
   "id": "29eff80a",
   "metadata": {},
   "source": [
    "\n",
    "## _Try_, _except_ e _else_\n",
    "\n",
    "Sempre que uma exceção é lançada o código seguinte é interrompido. Em determinadas circunstâncias, é importante saber lidar com certos erros e avisar ao usuário que algo de errado aconteceu.\n",
    "\n",
    "```python\n",
    "try:\n",
    "  # código que tem potencial de lançar uma exceção\n",
    "except Exceção1:\n",
    "  # se dentro do bloco try ocorrer um erro do tipo Exceção1, esse bloco será executado\n",
    "except Exceção2:\n",
    "  # se dentro do bloco try ocorrer um erro do tipo Exceção2, esse bloco será executado\n",
    "else:\n",
    "  # Se nenhuma exceção for detectada, esse bloco será executado\n",
    "```\n",
    "\n",
    "Vamos agora ver dois exemplos do uso do bloco `try`:\n",
    "\n",
    "- Tratamento de entrada de usuário em formato correto\n",
    "- Tratamento de arquivo"
   ]
  },
  {
   "attachments": {},
   "cell_type": "markdown",
   "id": "4a938854",
   "metadata": {},
   "source": [
    "## Finally\n",
    "\n",
    "Com esse bloco é possível garantir que determidado trecho de código seja sempre executado, independente de ocorrer ou não uma exceção.\n",
    "\n",
    "```python\n",
    "try:\n",
    "  # trecho de código que pode gerar alguma exceção\n",
    "finally:\n",
    "  # independente do que acontecer, esse código será executado\n",
    "```\n",
    "\n",
    "> Obs.: O bloco `finally` pode ser usado em conjunto com os demais comandos que compõe o `try`: `except` e `else`\n",
    "\n",
    "https://wiki.python.org/moin/HandlingExceptions <br/>\n",
    "https://docs.python.org/3/tutorial/errors.html"
   ]
  }
 ],
 "metadata": {
  "kernelspec": {
   "display_name": "Python 3 (ipykernel)",
   "language": "python",
   "name": "python3"
  },
  "language_info": {
   "codemirror_mode": {
    "name": "ipython",
    "version": 3
   },
   "file_extension": ".py",
   "mimetype": "text/x-python",
   "name": "python",
   "nbconvert_exporter": "python",
   "pygments_lexer": "ipython3",
   "version": "3.11.4"
  }
 },
 "nbformat": 4,
 "nbformat_minor": 5
}
