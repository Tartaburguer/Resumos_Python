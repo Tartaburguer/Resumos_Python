{
 "cells": [
  {
   "attachments": {},
   "cell_type": "markdown",
   "id": "07e2ed3d",
   "metadata": {},
   "source": [
    "# Apresentação Streamlit e dashborads\n",
    "\n",
    "## Indice\n",
    "\n",
    "- Modulos para visualização de dados\n",
    "- Criando virtual enviroments\n",
    "- Dash\n",
    "- [Streamlit](#stream)\n",
    "\n",
    "___\n"
   ]
  },
  {
   "attachments": {},
   "cell_type": "markdown",
   "id": "114f9e79",
   "metadata": {},
   "source": [
    "# Modulos para visualização de dados\n",
    "\n",
    "Para mais detalhes sobre modulos vide [_Intro_Python](../_Intro_Python\\Intro_Python.ipynb)\n",
    "\n",
    "Por mais que a linguagem Python venha com uma série de recursos que otimizam bastante o tempo de desenvolvimento dos algoritmos, ela não é completa. Há uma série de cálculos, estruturas de dados e recursos para tratar com formatos de arquivos específicos que não está disponível nativamente na linguagem.\n",
    "\n",
    "Para a analise da dados há modulos/bibliotecas do Python que são essenciais para otimizar o trabalho de analise e engenharia de dados.\n",
    "\n"
   ]
  },
  {
   "attachments": {},
   "cell_type": "markdown",
   "id": "b18adb7c",
   "metadata": {},
   "source": [
    "Bibliotecas padrão para analise de dados"
   ]
  },
  {
   "cell_type": "code",
   "execution_count": 1,
   "id": "28192895",
   "metadata": {},
   "outputs": [],
   "source": [
    "#importando as bibliotecas antes de começar a rodar o codigo\n",
    "\n",
    "import pandas as pd\n",
    "import numpy as np"
   ]
  },
  {
   "attachments": {},
   "cell_type": "markdown",
   "id": "7a120558",
   "metadata": {},
   "source": [
    "Bibliotecas adicionais para visualização de dados"
   ]
  },
  {
   "cell_type": "code",
   "execution_count": 2,
   "id": "bb9c0596",
   "metadata": {},
   "outputs": [
    {
     "name": "stderr",
     "output_type": "stream",
     "text": [
      "C:\\Users\\renato.lopes\\AppData\\Local\\Temp\\ipykernel_1170828\\721392818.py:4: UserWarning: \n",
      "The dash_core_components package is deprecated. Please replace\n",
      "`import dash_core_components as dcc` with `from dash import dcc`\n",
      "  import dash_core_components as dcc\n",
      "C:\\Users\\renato.lopes\\AppData\\Local\\Temp\\ipykernel_1170828\\721392818.py:5: UserWarning: \n",
      "The dash_html_components package is deprecated. Please replace\n",
      "`import dash_html_components as html` with `from dash import html`\n",
      "  import dash_html_components as html\n"
     ]
    }
   ],
   "source": [
    "import matplotlib.pyplot as plt\n",
    "import seaborn as sns\n",
    "import dash\n",
    "import dash_core_components as dcc\n",
    "import dash_html_components as html"
   ]
  },
  {
   "attachments": {},
   "cell_type": "markdown",
   "id": "92ac60e9",
   "metadata": {},
   "source": [
    "Bibliotecas para apredizado supervisionado e não supervisionado"
   ]
  },
  {
   "cell_type": "code",
   "execution_count": 3,
   "id": "5faf0780",
   "metadata": {},
   "outputs": [],
   "source": [
    "from sklearn import preprocessing\n",
    "from sklearn.preprocessing import StandardScaler\n",
    "from sklearn.model_selection import train_test_split"
   ]
  },
  {
   "attachments": {},
   "cell_type": "markdown",
   "id": "bf4343bc",
   "metadata": {},
   "source": [
    "___\n",
    "\n",
    "# Virtual enviroments \n",
    "\n",
    "Para mais detalhes sobre virtual enviroments vide  [_Intro_Python](../_Intro_Python/Intro_Python.ipynb)\n",
    "\n",
    "\n",
    "Para trabalhar com dashboards interativas com python, seja com a biblioteca Dash ou Streamlit é uma boa pratica utilizar um ambiente virtual\n",
    "\n",
    "\n",
    "\n",
    "\n",
    "https://realpython.com/python-virtual-environments-a-primer/\n",
    "\n",
    "https://realpython.com/what-is-pip/\n",
    "\n"
   ]
  },
  {
   "attachments": {},
   "cell_type": "markdown",
   "id": "3a5606eb",
   "metadata": {},
   "source": [
    "## Criando o virtual enviroment"
   ]
  },
  {
   "attachments": {},
   "cell_type": "markdown",
   "id": "2054e3b3",
   "metadata": {},
   "source": [
    "Abra o terminal de comando diretamente no windows ou no VS code, pelo windows provavelmente será necessario ajustar o caminho do diretorio, pelo VS é so clicar direto no diretorio e abrir o terminal\n",
    "\n",
    "\n",
    "> <span style=\"color:#0074D9\"> Windows PowerShell </span>\n",
    "> \n",
    "> <span style=\"color:#bfb526\"> PS> </span> \n",
    "> C:\\DiretorioEscolhido python -m venv venv\n",
    "\n",
    "se der certo será criado uma pasta venv dentro do DiterorioEscolhido\n"
   ]
  },
  {
   "attachments": {},
   "cell_type": "markdown",
   "id": "5bddd40e",
   "metadata": {},
   "source": [
    "## Ativando o virtual enviroment\n"
   ]
  },
  {
   "attachments": {},
   "cell_type": "markdown",
   "id": "432d32af",
   "metadata": {},
   "source": [
    "Execute os comandos abaixo no terminal\n",
    "\n",
    "\n",
    "> <span style=\"color:#0074D9\"> Windows PowerShell </span>\n",
    "> \n",
    "> <span style=\"color:#bfb526\"> PS> </span> \n",
    "> C:\\DiretorioEscolhido venv\\Scripts\\activate\n",
    "\n",
    "se der certo será retorna\n",
    "\n",
    "> <span style=\"color:#0074D9\"> Windows PowerShell </span>\n",
    "> \n",
    "> <span style=\"color:#bfb526\"> (venv) PS> </span>\n",
    "> C:\\DiretorioEscolhido \n",
    "\n"
   ]
  },
  {
   "attachments": {},
   "cell_type": "markdown",
   "id": "453c69c8",
   "metadata": {},
   "source": [
    "## Desativando o virtual enviroment"
   ]
  },
  {
   "attachments": {},
   "cell_type": "markdown",
   "id": "c20facfb",
   "metadata": {},
   "source": [
    "Execute os comandos abaixo no terminal\n",
    "\n",
    "\n",
    "> <span style=\"color:#0074D9\"> Windows PowerShell </span>\n",
    "> \n",
    "> <span style=\"color:#bfb526\"> (venv) PS> </span>\n",
    "> C:\\DiretorioEscolhido  <span style=\"color:#bfb526\"> deactivate </span>\n",
    "\n",
    "se der certo será retorna\n",
    "\n",
    "> <span style=\"color:#0074D9\"> Windows PowerShell </span>\n",
    "> \n",
    "> <span style=\"color:#bfb526\">PS> </span>\n",
    "> C:\\DiretorioEscolhido \n"
   ]
  },
  {
   "attachments": {},
   "cell_type": "markdown",
   "id": "5883d110",
   "metadata": {},
   "source": [
    "## Instalando os modulos no virtual enviroment"
   ]
  },
  {
   "attachments": {},
   "cell_type": "markdown",
   "id": "15d2de18",
   "metadata": {},
   "source": [
    "1. Para gerar as dependencias\n",
    "\n",
    "Caso se queira na verdade criar um arquivo requirements para compartilhar com outros usuarios utilize o comando abaixo\n",
    "\n",
    "> <span style=\"color:#0074D9\"> Windows PowerShell </span>\n",
    "> \n",
    "> <span style=\"color:#bfb526\"> (venv) PS> </span>\n",
    "> C:\\DiretorioEscolhido  python -m pip freze > requirements.txt\n"
   ]
  },
  {
   "attachments": {},
   "cell_type": "markdown",
   "id": "ebf3c38b",
   "metadata": {},
   "source": [
    "2. Para instalar as dependencias\n",
    "\n",
    "Execute os comandos abaixo no terminal para instalar no virtual enviroment criado os requerimentos dos movulos e suas versões previamente criado\n",
    "\n",
    "\n",
    "> <span style=\"color:#0074D9\"> Windows PowerShell </span>\n",
    "> \n",
    "> <span style=\"color:#bfb526\"> (venv) PS> </span>\n",
    "> C:\\DiretorioEscolhido  <span style=\"color:#bfb526\"> pip </span> install - r requirements.txt"
   ]
  },
  {
   "attachments": {},
   "cell_type": "markdown",
   "id": "d40f6e83",
   "metadata": {},
   "source": [
    "___\n",
    "\n",
    "# DASH\n",
    "\n",
    "\n",
    "- Dash é uma biblioteca de interface web para usuários com foco para análise, exploração e\n",
    "reporte de dados;\n",
    "- Todos os elementos no Dash são customizáveis (tamanho, cor e posicionamento) ;\n",
    "- Não possui necessidade de saber escrever códigos HTML ou Javascript, apenas Python*;\n",
    "\n",
    "Arquitetura\n",
    "- Aplicações Dash são web servers baseados em Flask com comunicação por JSONs através de requisições HTTP.\n"
   ]
  },
  {
   "attachments": {},
   "cell_type": "markdown",
   "id": "517b1bc4",
   "metadata": {},
   "source": [
    "O Numpy permite manupular arrays mais rapido que a listas nativas de Python"
   ]
  },
  {
   "attachments": {},
   "cell_type": "markdown",
   "id": "835021cf",
   "metadata": {},
   "source": [
    "FALTA ADICIONAR MAIS SOBRE DASH"
   ]
  },
  {
   "attachments": {},
   "cell_type": "markdown",
   "id": "fa58ac6c",
   "metadata": {},
   "source": [
    "___\n",
    "\n",
    "# Streamlit\n",
    "\n",
    "- Streamlit é uma biblioteca de interface web para usuários com foco para análise, exploração e\n",
    "reporte de dados;\n",
    "- mais simples e limitando que o dash , não sendo necessario conhecimento de frontend HTML/CSS\n",
    "\n",
    "https://github.com/streamlit/streamlit/blob/develop/README.md\n",
    "\n",
    "\n",
    "\n",
    "\n",
    "FALTA ADICIONAR MAIS SOBRE STREAMLIT\n",
    "\n",
    "<a id='stream'></a>"
   ]
  },
  {
   "cell_type": "markdown",
   "id": "bc84414c",
   "metadata": {},
   "source": [
    "## Streamlit Hello"
   ]
  },
  {
   "cell_type": "markdown",
   "id": "f77f61de",
   "metadata": {},
   "source": [
    "### Instalando o Stremlit standalone\n",
    "\n",
    "Para instalar o streamlit e executar o codigo do streamlit Hello, abra o terminal de comando diretamente no windows ou no VS code e execute os comandos abaixo\n",
    "\n",
    "\n",
    "> <span style=\"color:#0074D9\"> Windows PowerShell </span>\n",
    "> \n",
    "> <span style=\"color:#bfb526\"> PS> </span> \n",
    "> pip install streamlit\n",
    ">\n",
    "> <span style=\"color:#bfb526\">  PS> </span> \n",
    "> streamlit hello\n",
    "\n",
    "após executar esses comando o webbrowser irá abrir executando no localhost o dashboard do streamlit hello\n"
   ]
  },
  {
   "cell_type": "markdown",
   "id": "1a423fcc",
   "metadata": {},
   "source": [
    "### Instalando e executando o Stremlit com virtual enviroment\n",
    "\n",
    "Para trabalhar com dashboards interativas com python, seja com a biblioteca Dash ou Streamlit é uma boa pratica utilizar um ambiente virtual\n",
    "\n",
    "Para mais detalhes sobre virtual enviroments vide  [_Intro_Python](../_Intro_Python/Intro_Python.ipynb)"
   ]
  },
  {
   "cell_type": "markdown",
   "id": "a9c209d2",
   "metadata": {},
   "source": [
    "1.  Abra o terminal de comando diretamente no windows ou no VS code, pelo windows provavelmente será necessario ajustar o caminho do diretorio, pelo VS é so clicar direto no diretorio e abrir o terminal\n",
    "\n",
    "\n",
    "> <span style=\"color:#0074D9\"> Windows PowerShell </span>\n",
    "> \n",
    "> <span style=\"color:#bfb526\"> PS> </span> \n",
    "> C:\\DiretorioEscolhido python -m venv venv\n",
    "\n",
    "se der certo será criado uma pasta venv dentro do Diterorio Escolhido"
   ]
  },
  {
   "cell_type": "markdown",
   "id": "0b722c0f",
   "metadata": {},
   "source": [
    "\n",
    "2. Execute os comandos abaixo no terminal\n",
    "\n",
    "\n",
    "> <span style=\"color:#0074D9\"> Windows PowerShell </span>\n",
    "> \n",
    "> <span style=\"color:#bfb526\"> PS> </span> \n",
    "> C:\\DiretorioEscolhido venv\\Scripts\\activate\n",
    "\n",
    "se der certo será retorna\n",
    "\n",
    "> <span style=\"color:#0074D9\"> Windows PowerShell </span>\n",
    "> \n",
    "> <span style=\"color:#bfb526\"> (venv) PS> </span>\n",
    "> C:\\DiretorioEscolhido \n",
    "\n",
    "\n"
   ]
  },
  {
   "cell_type": "markdown",
   "id": "326e0ed5",
   "metadata": {},
   "source": [
    "3. Para instalar as dependencias\n",
    "\n",
    "Execute os comandos abaixo no terminal para instalar no virtual enviroment criado os requerimentos dos movulos e suas versões previamente criado\n",
    "\n",
    "\n",
    "> <span style=\"color:#0074D9\"> Windows PowerShell </span>\n",
    "> \n",
    "> <span style=\"color:#bfb526\"> (venv) PS> </span>\n",
    "> C:\\DiretorioEscolhido  <span style=\"color:#bfb526\"> pip </span> install - r requirements.txt"
   ]
  },
  {
   "cell_type": "markdown",
   "id": "d91ee298",
   "metadata": {},
   "source": [
    "4. Para rodar a aplicação (preferenciamente em um virtual enviroment criado) execute os comandos abaixo no terminal de comando para executar o arquivo .py da aplicação criada\n",
    "\n",
    "\n",
    "> <span style=\"color:#0074D9\"> Windows PowerShell </span>\n",
    "> \n",
    "> <span style=\"color:#bfb526\"> (venv) PS> </span> \n",
    "> streamlit run streamlit_app.py\n"
   ]
  },
  {
   "cell_type": "markdown",
   "id": "780d75be",
   "metadata": {},
   "source": [
    "5. Execute os comandos abaixo no terminal para desativar a virtual enviroment\n",
    "\n",
    "\n",
    "> <span style=\"color:#0074D9\"> Windows PowerShell </span>\n",
    "> \n",
    "> <span style=\"color:#bfb526\"> (venv) PS> </span>\n",
    "> C:\\DiretorioEscolhido  <span style=\"color:#bfb526\"> deactivate </span>\n",
    "\n",
    "se der certo será retorna\n",
    "\n",
    "> <span style=\"color:#0074D9\"> Windows PowerShell </span>\n",
    "> \n",
    "> <span style=\"color:#bfb526\">PS> </span>\n",
    "> C:\\DiretorioEscolhido \n"
   ]
  },
  {


}
