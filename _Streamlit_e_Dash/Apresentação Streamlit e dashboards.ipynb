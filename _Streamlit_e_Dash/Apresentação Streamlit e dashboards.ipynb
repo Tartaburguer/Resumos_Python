{
 "cells": [
  {
   "attachments": {},
   "cell_type": "markdown",
   "id": "07e2ed3d",
   "metadata": {},
   "source": [
    "# Apresentação Streamlit e dashborads\n",
    "\n",
    "## Indice\n",
    "\n",
    "- Modulos para visualização de dados\n",
    "- Criando virtual enviroments\n",
    "- Dash\n",
    "- [Streamlit](#stream)\n",
    "\n",
    "___\n"
   ]
  },
  {
   "attachments": {},
   "cell_type": "markdown",
   "id": "114f9e79",
   "metadata": {},
   "source": [
    "# Modulos para visualização de dados\n",
    "\n",
    "Para mais detalhes sobre modulos vide [_Intro_Python](../_Intro_Python\\Intro_Python.ipynb)\n",
    "\n",
    "Por mais que a linguagem Python venha com uma série de recursos que otimizam bastante o tempo de desenvolvimento dos algoritmos, ela não é completa. Há uma série de cálculos, estruturas de dados e recursos para tratar com formatos de arquivos específicos que não está disponível nativamente na linguagem.\n",
    "\n",
    "Para a analise da dados há modulos/bibliotecas do Python que são essenciais para otimizar o trabalho de analise e engenharia de dados.\n",
    "\n"
   ]
  },
  {
   "attachments": {},
   "cell_type": "markdown",
   "id": "b18adb7c",
   "metadata": {},
   "source": [
    "Bibliotecas padrão para analise de dados"
   ]
  },
  {
   "cell_type": "code",
   "execution_count": 1,
   "id": "28192895",
   "metadata": {},
   "outputs": [],
   "source": [
    "#importando as bibliotecas antes de começar a rodar o codigo\n",
    "\n",
    "import pandas as pd\n",
    "import numpy as np"
   ]
  },
  {
   "attachments": {},
   "cell_type": "markdown",
   "id": "7a120558",
   "metadata": {},
   "source": [
    "Bibliotecas adicionais para visualização de dados"
   ]
  },
  {
   "cell_type": "code",
   "execution_count": 2,
   "id": "bb9c0596",
   "metadata": {},
   "outputs": [
    {
     "name": "stderr",
     "output_type": "stream",
     "text": [
      "C:\\Users\\renato.lopes\\AppData\\Local\\Temp\\ipykernel_14964\\721392818.py:4: UserWarning: \n",
      "The dash_core_components package is deprecated. Please replace\n",
      "`import dash_core_components as dcc` with `from dash import dcc`\n",
      "  import dash_core_components as dcc\n",
      "C:\\Users\\renato.lopes\\AppData\\Local\\Temp\\ipykernel_14964\\721392818.py:5: UserWarning: \n",
      "The dash_html_components package is deprecated. Please replace\n",
      "`import dash_html_components as html` with `from dash import html`\n",
      "  import dash_html_components as html\n"
     ]
    }
   ],
   "source": [
    "import matplotlib.pyplot as plt\n",
    "import seaborn as sns\n",
    "import dash\n",
    "import dash_core_components as dcc\n",
    "import dash_html_components as html"
   ]
  },
  {
   "attachments": {},
   "cell_type": "markdown",
   "id": "92ac60e9",
   "metadata": {},
   "source": [
    "Bibliotecas para apredizado supervisionado e não supervisionado"
   ]
  },
  {
   "cell_type": "code",
   "execution_count": 3,
   "id": "5faf0780",
   "metadata": {},
   "outputs": [],
   "source": [
    "from sklearn import preprocessing\n",
    "from sklearn.preprocessing import StandardScaler\n",
    "from sklearn.model_selection import train_test_split"
   ]
  },
  {
   "attachments": {},
   "cell_type": "markdown",
   "id": "bf4343bc",
   "metadata": {},
   "source": [
    "___\n",
    "\n",
    "# Virtual enviroments \n",
    "\n",
    "Para mais detalhes sobre virtual enviroments vide  [_Intro_Python](../_Intro_Python/Intro_Python.ipynb)\n",
    "\n",
    "\n",
    "Para trabalhar com dashboards interativas com python, seja com a biblioteca Dash ou Streamlit é uma boa pratica utilizar um ambiente virtual\n",
    "\n",
    "\n",
    "\n",
    "\n",
    "https://realpython.com/python-virtual-environments-a-primer/\n",
    "\n",
    "https://realpython.com/what-is-pip/\n",
    "\n"
   ]
  },
  {
   "attachments": {},
   "cell_type": "markdown",
   "id": "3a5606eb",
   "metadata": {},
   "source": [
    "## Criando o virtual enviroment"
   ]
  },
  {
   "attachments": {},
   "cell_type": "markdown",
   "id": "2054e3b3",
   "metadata": {},
   "source": [
    "Abra o terminal de comando diretamente no windows ou no VS code, pelo windows provavelmente será necessario ajustar o caminho do diretorio, pelo VS é so clicar direto no diretorio e abrir o terminal\n",
    "\n",
    "\n",
    "> <span style=\"color:#0074D9\"> Windows PowerShell </span>\n",
    "> \n",
    "> <span style=\"color:#bfb526\"> PS> </span> \n",
    "> C:\\DiretorioEscolhido python -m venv venv\n",
    "\n",
    "se der certo será criado uma pasta venv dentro do DiterorioEscolhido\n"
   ]
  },
  {
   "attachments": {},
   "cell_type": "markdown",
   "id": "5bddd40e",
   "metadata": {},
   "source": [
    "## Ativando o virtual enviroment\n"
   ]
  },
  {
   "attachments": {},
   "cell_type": "markdown",
   "id": "432d32af",
   "metadata": {},
   "source": [
    "Execute os comandos abaixo no terminal\n",
    "\n",
    "\n",
    "> <span style=\"color:#0074D9\"> Windows PowerShell </span>\n",
    "> \n",
    "> <span style=\"color:#bfb526\"> PS> </span> \n",
    "> C:\\DiretorioEscolhido venv\\Scripts\\activate\n",
    "\n",
    "se der certo será retorna\n",
    "\n",
    "> <span style=\"color:#0074D9\"> Windows PowerShell </span>\n",
    "> \n",
    "> <span style=\"color:#bfb526\"> (venv) PS> </span>\n",
    "> C:\\DiretorioEscolhido \n",
    "\n"
   ]
  },
  {
   "attachments": {},
   "cell_type": "markdown",
   "id": "453c69c8",
   "metadata": {},
   "source": [
    "## Desativando o virtual enviroment"
   ]
  },
  {
   "attachments": {},
   "cell_type": "markdown",
   "id": "c20facfb",
   "metadata": {},
   "source": [
    "Execute os comandos abaixo no terminal\n",
    "\n",
    "\n",
    "> <span style=\"color:#0074D9\"> Windows PowerShell </span>\n",
    "> \n",
    "> <span style=\"color:#bfb526\"> (venv) PS> </span>\n",
    "> C:\\DiretorioEscolhido  <span style=\"color:#bfb526\"> deactivate </span>\n",
    "\n",
    "se der certo será retorna\n",
    "\n",
    "> <span style=\"color:#0074D9\"> Windows PowerShell </span>\n",
    "> \n",
    "> <span style=\"color:#bfb526\">PS> </span>\n",
    "> C:\\DiretorioEscolhido \n"
   ]
  },
  {
   "attachments": {},
   "cell_type": "markdown",
   "id": "5883d110",
   "metadata": {},
   "source": [
    "## Instalando os modulos no virtual enviroment"
   ]
  },
  {
   "attachments": {},
   "cell_type": "markdown",
   "id": "15d2de18",
   "metadata": {},
   "source": [
    "1. Para gerar as dependencias\n",
    "\n",
    "Caso se queira na verdade criar um arquivo requirements para compartilhar com outros usuarios utilize o comando abaixo\n",
    "\n",
    "> <span style=\"color:#0074D9\"> Windows PowerShell </span>\n",
    "> \n",
    "> <span style=\"color:#bfb526\"> (venv) PS> </span>\n",
    "> C:\\DiretorioEscolhido  python -m pip freze > requirements.txt\n"
   ]
  },
  {
   "attachments": {},
   "cell_type": "markdown",
   "id": "ebf3c38b",
   "metadata": {},
   "source": [
    "2. Para instalar as dependencias\n",
    "\n",
    "Execute os comandos abaixo no terminal para instalar no virtual enviroment criado os requerimentos dos movulos e suas versões previamente criado\n",
    "\n",
    "\n",
    "> <span style=\"color:#0074D9\"> Windows PowerShell </span>\n",
    "> \n",
    "> <span style=\"color:#bfb526\"> (venv) PS> </span>\n",
    "> C:\\DiretorioEscolhido  <span style=\"color:#bfb526\"> pip </span> install - r requirements.txt"
   ]
  },
  {
   "attachments": {},
   "cell_type": "markdown",
   "id": "d40f6e83",
   "metadata": {},
   "source": [
    "___\n",
    "\n",
    "# DASH\n",
    "\n",
    "\n",
    "- Dash é uma biblioteca de interface web para usuários com foco para análise, exploração e\n",
    "reporte de dados;\n",
    "- Todos os elementos no Dash são customizáveis (tamanho, cor e posicionamento) ;\n",
    "- Não possui necessidade de saber escrever códigos HTML ou Javascript, apenas Python*;\n",
    "\n",
    "Arquitetura\n",
    "- Aplicações Dash são web servers baseados em Flask com comunicação por JSONs através de requisições HTTP.\n"
   ]
  },
  {
   "attachments": {},
   "cell_type": "markdown",
   "id": "517b1bc4",
   "metadata": {},
   "source": [
    "O Numpy permite manupular arrays mais rapido que a listas nativas de Python"
   ]
  },
  {
   "attachments": {},
   "cell_type": "markdown",
   "id": "835021cf",
   "metadata": {},
   "source": [
    "FALTA ADICIONAR MAIS SOBRE DASH"
   ]
  },
  {
   "attachments": {},
   "cell_type": "markdown",
   "id": "fa58ac6c",
   "metadata": {},
   "source": [
    "___\n",
    "\n",
    "# Streamlit\n",
    "\n",
    "- Streamlit é uma biblioteca de interface web para usuários com foco para análise, exploração e\n",
    "reporte de dados;\n",
    "- mais simples e limitando que o dash , não sendo necessario conhecimento de frontend HTML/CSS\n",
    "\n",
    "\n",
    "\n",
    "\n",
    "FALTA ADICIONAR MAIS SOBRE STREAMLIT\n",
    "\n",
    "<a id='stream'></a>"
   ]
  },
  {
   "attachments": {},
   "cell_type": "markdown",
   "id": "75395dd0",
   "metadata": {},
   "source": [
    "___\n",
    "\n",
    "# Puxando Markdom (em elaboração)\n",
    "\n",
    "- Fazendo testes de como puxar um markdown como referencia"
   ]
  },
  {
   "attachments": {},
   "cell_type": "markdown",
   "id": "fca30861",
   "metadata": {},
   "source": [
    "## test\n",
    "\n",
    "teste\n"
   ]
  },
  {
   "cell_type": "code",
   "execution_count": 4,
   "id": "104bb067",
   "metadata": {},
   "outputs": [
    {
     "name": "stdout",
     "output_type": "stream",
     "text": [
      "Requirement already satisfied: markdown in c:\\users\\renato.lopes\\appdata\\local\\programs\\python\\python311\\lib\\site-packages (3.4.4)\n"
     ]
    }
   ],
   "source": [
    "!pip install markdown"
   ]
  },
  {
   "cell_type": "code",
   "execution_count": 5,
   "id": "1c86489a",
   "metadata": {},
   "outputs": [],
   "source": [
    "from IPython.display import display, Markdown\n"
   ]
  },
  {
   "cell_type": "code",
   "execution_count": 6,
   "id": "6dba4c7f",
   "metadata": {},
   "outputs": [
    {
     "ename": "FileNotFoundError",
     "evalue": "[Errno 2] No such file or directory: 'D:\\\\Documents\\\\Educacao_Doc_Pessoais\\\\Cesar\\\\Analise_e_Engenharia_de_Dados\\\\Resumos_Python\\\\_Intro_Python ,Numpy_Pandas\\\\README2.md'",
     "output_type": "error",
     "traceback": [
      "\u001b[1;31m---------------------------------------------------------------------------\u001b[0m",
      "\u001b[1;31mFileNotFoundError\u001b[0m                         Traceback (most recent call last)",
      "Cell \u001b[1;32mIn[6], line 1\u001b[0m\n\u001b[1;32m----> 1\u001b[0m arq\u001b[39m=\u001b[39m\u001b[39mopen\u001b[39;49m(\u001b[39m'\u001b[39;49m\u001b[39mD:\u001b[39;49m\u001b[39m\\\u001b[39;49m\u001b[39mDocuments\u001b[39;49m\u001b[39m\\\u001b[39;49m\u001b[39mEducacao_Doc_Pessoais\u001b[39;49m\u001b[39m\\\u001b[39;49m\u001b[39mCesar\u001b[39;49m\u001b[39m\\\u001b[39;49m\u001b[39mAnalise_e_Engenharia_de_Dados\u001b[39;49m\u001b[39m\\\u001b[39;49m\u001b[39mResumos_Python\u001b[39;49m\u001b[39m\\\u001b[39;49m\u001b[39m_Intro_Python ,Numpy_Pandas\u001b[39;49m\u001b[39m\\\u001b[39;49m\u001b[39mREADME2.md\u001b[39;49m\u001b[39m'\u001b[39;49m, \u001b[39m'\u001b[39;49m\u001b[39mr\u001b[39;49m\u001b[39m'\u001b[39;49m,encoding\u001b[39m=\u001b[39;49m\u001b[39m\"\u001b[39;49m\u001b[39mutf8\u001b[39;49m\u001b[39m\"\u001b[39;49m)\n\u001b[0;32m      2\u001b[0m Markdown(arq\u001b[39m.\u001b[39mread())\n",
      "File \u001b[1;32m~\\AppData\\Roaming\\Python\\Python311\\site-packages\\IPython\\core\\interactiveshell.py:284\u001b[0m, in \u001b[0;36m_modified_open\u001b[1;34m(file, *args, **kwargs)\u001b[0m\n\u001b[0;32m    277\u001b[0m \u001b[39mif\u001b[39;00m file \u001b[39min\u001b[39;00m {\u001b[39m0\u001b[39m, \u001b[39m1\u001b[39m, \u001b[39m2\u001b[39m}:\n\u001b[0;32m    278\u001b[0m     \u001b[39mraise\u001b[39;00m \u001b[39mValueError\u001b[39;00m(\n\u001b[0;32m    279\u001b[0m         \u001b[39mf\u001b[39m\u001b[39m\"\u001b[39m\u001b[39mIPython won\u001b[39m\u001b[39m'\u001b[39m\u001b[39mt let you open fd=\u001b[39m\u001b[39m{\u001b[39;00mfile\u001b[39m}\u001b[39;00m\u001b[39m by default \u001b[39m\u001b[39m\"\u001b[39m\n\u001b[0;32m    280\u001b[0m         \u001b[39m\"\u001b[39m\u001b[39mas it is likely to crash IPython. If you know what you are doing, \u001b[39m\u001b[39m\"\u001b[39m\n\u001b[0;32m    281\u001b[0m         \u001b[39m\"\u001b[39m\u001b[39myou can use builtins\u001b[39m\u001b[39m'\u001b[39m\u001b[39m open.\u001b[39m\u001b[39m\"\u001b[39m\n\u001b[0;32m    282\u001b[0m     )\n\u001b[1;32m--> 284\u001b[0m \u001b[39mreturn\u001b[39;00m io_open(file, \u001b[39m*\u001b[39;49margs, \u001b[39m*\u001b[39;49m\u001b[39m*\u001b[39;49mkwargs)\n",
      "\u001b[1;31mFileNotFoundError\u001b[0m: [Errno 2] No such file or directory: 'D:\\\\Documents\\\\Educacao_Doc_Pessoais\\\\Cesar\\\\Analise_e_Engenharia_de_Dados\\\\Resumos_Python\\\\_Intro_Python ,Numpy_Pandas\\\\README2.md'"
     ]
    }
   ],
   "source": [
    "arq=open('D:\\Documents\\Educacao_Doc_Pessoais\\Cesar\\Analise_e_Engenharia_de_Dados\\Resumos_Python\\_Intro_Python ,Numpy_Pandas\\README2.md', 'r',encoding=\"utf8\")\n",
    "Markdown(arq.read())"
   ]
  },
  {
   "cell_type": "code",
   "execution_count": null,
   "id": "dd2ccd56",
   "metadata": {},
   "outputs": [
    {
     "data": {
      "text/markdown": [
       "# visualizacao-e-analise-de-dados-Setor Energético Brasileiro\n",
       "\n",
       "## Projeto Final\n",
       "\n",
       "Projeto de conclusão da disciplina Análise e Visualização de Dados da pós-graduação em Engenharia e Análise de Dados 2023.01 do CESAR , consiste na construção de dashboards e insigths sobre um tema, neste caso o tema escolhido foi o setor energético brasileiro\n",
       "\n",
       "### Grupo\n",
       "\n",
       "- Felipe Augusto Marques de Alcântra\n",
       "- Renato de Castro Lopes\n",
       "\n",
       "### Dataset\n",
       "\n",
       "Para construção deste dashboard foram utilizados duas fontes de dados:\n",
       "\n",
       "- **Banco de dados publico da Empresa de Pesquisa Energética (arquivos csv e shapefile):**\n",
       "  \n",
       "https://gisepeprd2.epe.gov.br/WebMapEPE/\n",
       "\n",
       "- **Mapa do Brasil (arquivo Json) :**\n",
       "  \n",
       "https://www.kaggle.com/datasets/thiagobodruk/brazil-geojson?resource=download\n",
       "\n"
      ],
      "text/plain": [
       "<IPython.core.display.Markdown object>"
      ]
     },
     "metadata": {},
     "output_type": "display_data"
    }
   ],
   "source": [
    "from IPython.display import display, Markdown\n",
    "\n",
    "with open('readme.md', 'r',encoding=\"utf8\") as fh:\n",
    "    content = fh.read()\n",
    "\n",
    "display(Markdown(content))"
   ]
  },
  {
   "cell_type": "code",
   "execution_count": null,
   "id": "9a9874b0",
   "metadata": {},
   "outputs": [],
   "source": [
    "# %load README.md\n",
    "# visualizacao-e-analise-de-dados-Setor Energético Brasileiro\n",
    "\n",
    "## Projeto Final\n",
    "\n",
    "Projeto de conclusão da disciplina Análise e Visualização de Dados da pós-graduação em Engenharia e Análise de Dados 2023.01 do CESAR , consiste na construção de dashboards e insigths sobre um tema, neste caso o tema escolhido foi o setor energético brasileiro\n",
    "\n",
    "### Grupo\n",
    "\n",
    "- Felipe Augusto Marques de Alcântra\n",
    "- Renato de Castro Lopes\n",
    "\n",
    "### Dataset\n",
    "\n",
    "Para construção deste dashboard foram utilizados duas fontes de dados:\n",
    "\n",
    "- **Banco de dados publico da Empresa de Pesquisa Energética (arquivos csv e shapefile):**\n",
    "  \n",
    "https://gisepeprd2.epe.gov.br/WebMapEPE/\n",
    "\n",
    "- **Mapa do Brasil (arquivo Json) :**\n",
    "  \n",
    "https://www.kaggle.com/datasets/thiagobodruk/brazil-geojson?resource=download\n",
    "\n"
   ]
  },
  {
   "cell_type": "code",
   "execution_count": 130,
   "id": "9e7a29f8",
   "metadata": {},
   "outputs": [],
   "source": [
    "# %load D:\\Documents\\Educacao_Doc_Pessoais\\Cesar\\Analise_e_Engenharia_de_Dados\\Resumos_Python\\_Intro_Python ,Numpy_Pandas\\README2.md\n",
    "# visualizacao-e-analise-de-dados-Setor Energético Brasileiro\n",
    "\n",
    "## Projeto Final\n",
    "\n",
    "Projeto de conclusão da disciplina Análise e Visualização de Dados da pós-graduação em Engenharia e Análise de Dados 2023.01 do CESAR , consiste na construção de dashboards e insigths sobre um tema, neste caso o tema escolhido foi o setor energético brasileiro\n",
    "\n",
    "### Grupo\n",
    "\n",
    "- Felipe Augusto Marques de Alcântra\n",
    "- Renato de Castro Lopes\n",
    "\n",
    "### Dataset\n",
    "\n",
    "Para construção deste dashboard foram utilizados duas fontes de dados:\n",
    "\n",
    "- **Banco de dados publico da Empresa de Pesquisa Energética (arquivos csv e shapefile):**\n",
    "  \n",
    "https://gisepeprd2.epe.gov.br/WebMapEPE/\n",
    "\n",
    "- **Mapa do Brasil (arquivo Json) :**\n",
    "  \n",
    "https://www.kaggle.com/datasets/thiagobodruk/brazil-geojson?resource=download\n",
    "\n"
   ]
  },
  {
   "attachments": {},
   "cell_type": "markdown",
   "id": "f4bc125c",
   "metadata": {},
   "source": []
  },
  {
   "attachments": {},
   "cell_type": "markdown",
   "id": "08626372",
   "metadata": {},
   "source": [
    "Link to [_Intro_Python](../_Intro_Python\\teste1.ipynb)\n",
    "\n",
    "\n",
    "\n"
   ]
  }
 ],
 "metadata": {
  "kernelspec": {
   "display_name": "Python 3 (ipykernel)",
   "language": "python",
   "name": "python3"
  },
  "language_info": {
   "codemirror_mode": {
    "name": "ipython",
    "version": 3
   },
   "file_extension": ".py",
   "mimetype": "text/x-python",
   "name": "python",
   "nbconvert_exporter": "python",
   "pygments_lexer": "ipython3",
   "version": "3.11.4"
  }
 },
 "nbformat": 4,
 "nbformat_minor": 5
}
